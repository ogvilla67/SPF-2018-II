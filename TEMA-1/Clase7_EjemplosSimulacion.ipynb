{
 "cells": [
  {
   "cell_type": "markdown",
   "metadata": {},
   "source": [
    "# Clase 7\n",
    "\n",
    "El objetivo con esta sesión es entender las nociones básicas y metodología, para realizar una simulación de algún proceso de nuestra vida cotidiana o profesional. "
   ]
  },
  {
   "cell_type": "markdown",
   "metadata": {},
   "source": [
    "## Etapas para realizar un estudio de simulación\n",
    "\n",
    "> - *Definición del sistema*: determinar la interacción del sistema con otros sistemas, restricciones, interacción e interrelación de variables de interés y los resultados esperados.\n",
    "> - *Formulación de un modelo*: Es necesario definir todas las variables que forman parte del sistema y además definir un diagrama de flujo que describa la forma completa del modelo.\n",
    "> - *Colección de datos*: Definir los datos necesarios para el modelo. Datos pueden provenir de registros contables, órdenes de trabajo, órdenes de compra, opiniones de expertos y si no hay otro remedio por experimentación.\n",
    "> - *Validación*: En esta etapa es posible detectar deficiencias en la formulación del modelo o en los datos sumunistrados al modelo. Formas de validar un modelo son:\n",
    "    - Opinión de expertos.\n",
    "    - Exactitud con que se predicen datos hitóricos.\n",
    "    - Exactitud de la predicción del futuro.\n",
    "    - La aceptación y confianza en el modelo de la perdona que hará uso de los resultados que arroje el experimento de simulación.\n",
    "    \n",
    "> - *Experimentación*: La experimentación con el modelo se realiza después de que éste ha sido validado. La experimentación consiste en generar los datos deseados y en realizar el análisis de sensibilidad de los índices requeridos.\n",
    "> - *Interpretación*: Se interpretan los resultados que arroja la simulación y en base a esto se toma una decisión.\n",
    "> - *Documentación*: \n",
    "    - Datos que debe de tener el modelo\n",
    "    - Manual de usurario\n",
    "        "
   ]
  },
  {
   "cell_type": "markdown",
   "metadata": {},
   "source": [
    "# Ejemplo de aplicación- Cafetería Central\n",
    "\n",
    "Premisas para la simulación:\n",
    "- Negocio de alimentos que vende bebidas y alimentos.\n",
    "- Negocio dentro del ITESO.\n",
    "- Negocio en cafetería central.\n",
    "- Tipo de clientes (hombres y mujeres).\n",
    "- Rentabilidad del 60%.\n",
    "\n",
    "## Objetivo\n",
    "Realizar una simulación estimado el tiempo medio que se tardaran los clientes en ser atendidos entre el horario de 6:30 a 1 pm. Además saber el consumo. \n",
    "**Analizar supuestos y limitantes**\n",
    "\n",
    "## Supuestos en simulación\n",
    "Clasificación de clientes: \n",
    "- Mujer  = 1 $\\longrightarrow$ aleatorio < 0.5\n",
    "- Hombre = 0 $\\longrightarrow$ aleatorio $\\geq$ 0.5.\n",
    "\n",
    "Condiciones iniciales:\n",
    "- Tiempo de simulación: 6:30 am - 1pm $\\longrightarrow$ T = 7 horas = 25200 seg.\n",
    "- Tiempo de llegada hasta ser atendido: Min=5seg, Max=30seg.\n",
    "- Tiempo que tardan los clientes en ser atendidos:\n",
    "    - Mujer: Min = 1 min= 60seg, Max = 5 min = 300 seg\n",
    "    - Hombre: Min = 40 seg, Max = 2 min= 120 seg\n",
    "- Consumo según el tipo de cliente:\n",
    "    - Mujer: Min = 30 pesos, Max = 100 pesos\n",
    "    - Hombre: Min = 20 pesos, Max = 80 pesos\n"
   ]
  },
  {
   "cell_type": "code",
   "execution_count": 1,
   "metadata": {},
   "outputs": [],
   "source": [
    "# Importación de paquetes\n",
    "import numpy as np"
   ]
  },
  {
   "cell_type": "code",
   "execution_count": 2,
   "metadata": {},
   "outputs": [
    {
     "name": "stdout",
     "output_type": "stream",
     "text": [
      "Los gastos de hombres en los 5 días fueron: [5726.897539140183, 5907.35610229757, 5944.8647709469915, 5708.446159241978, 6000.085868487424]\n",
      "En promedio los hombres gastaron: 5857.53008802283\n",
      "Los gastos de mujeres en los 5 días fueron: [7689.498478046196, 7499.787077003604, 7113.882952196291, 7379.742905357012, 7053.152772506061]\n",
      "En promedio los mujeres gastaron: 7347.2128370218325\n",
      "El número de personas atendidas fueron: [230, 235, 233, 224, 226]\n",
      "En promedio la cantidad de personas atendidas fueron: 229.6\n",
      "El tiempo de atención total fue: [25225.157492473998, 25257.451564988954, 25288.816535930113, 25255.882176180174, 25263.32792503731]\n",
      "El tiempo de atención promedio fue: 25258.127138922107\n",
      "Los ingresos totales fueron: [785547.1473301214, 782383.3148069013, 771342.6564661582, 747695.721166011, 732451.0283121723]\n",
      "La rentabilidad fue de: [471328.28839807 469429.98888414 462805.59387969 448617.43269961\n",
      " 439470.6169873 ]\n",
      "La rentabilidad promedio fue: 458330.3841697637\n",
      "El atención promedio por persona fue: 1.833487742372394\n"
     ]
    }
   ],
   "source": [
    "################## Programa realizado en clase de forma conjunta  de forma ineficiente\n",
    "T = 25200\n",
    "d = 5\n",
    "Tat_min = 5; Tat_max=30\n",
    "Tmujer_min = 60; Tmujer_max = 150\n",
    "Thombre_min = 40; Thombre_max = 120\n",
    "Gmujer_min = 30; Gmujer_max = 100\n",
    "Ghombre_min = 20; Ghombre_max=80\n",
    "\n",
    "Personas = np.random.rand(T)\n",
    "G_hombres = []\n",
    "G_mujeres = []\n",
    "P_atendidas = []\n",
    "T_atencion = []\n",
    "G_total = []\n",
    "T_atencionPersonas = []\n",
    "\n",
    "for j in range(d):\n",
    "    g_hombre = 0\n",
    "    g_mujer = 0\n",
    "    g_total = 0\n",
    "    t_atencion = 0\n",
    "    cant_mujer = 0\n",
    "    cant_hombre = 0\n",
    "    i = 0\n",
    "    t_persona = 0\n",
    "\n",
    "    while T >= t_atencion:\n",
    "        t_llegada = np.random.uniform(Tat_min,Tat_max)\n",
    "        if Personas[i]<0.5:\n",
    "            t_mujer = np.random.uniform(Tmujer_min,Tmujer_max)\n",
    "            g_mujer += np.random.uniform(Gmujer_min,Gmujer_max)\n",
    "            t_atencion += t_mujer + t_llegada\n",
    "            g_total += g_mujer\n",
    "            t_persona = t_mujer + t_llegada\n",
    "            cant_mujer += 1\n",
    "        else:\n",
    "            t_hombre = np.random.uniform(Thombre_min,Thombre_max)\n",
    "            g_hombre += np.random.uniform(Ghombre_min,Ghombre_max)\n",
    "            t_atencion += t_hombre + t_llegada\n",
    "            g_total += g_hombre\n",
    "            t_persona = t_hombre + t_llegada\n",
    "            cant_hombre += 1\n",
    "        i+=1\n",
    "        T_atencionPersonas.append(t_persona)\n",
    "    G_hombres.append(g_hombre)\n",
    "    G_mujeres.append(g_mujer)\n",
    "    P_atendidas.append(i)\n",
    "    T_atencion.append(np.sum(t_atencion))\n",
    "    G_total.append(g_total)\n",
    "\n",
    "print('Los gastos de hombres en los 5 días fueron:',G_hombres)\n",
    "print('En promedio los hombres gastaron:',np.mean(G_hombres))\n",
    "print('Los gastos de mujeres en los 5 días fueron:',G_mujeres)\n",
    "print('En promedio los mujeres gastaron:',np.mean(G_mujeres))\n",
    "print('El número de personas atendidas fueron:',P_atendidas)\n",
    "print('En promedio la cantidad de personas atendidas fueron:',np.mean(P_atendidas))\n",
    "print('El tiempo de atención total fue:',T_atencion)\n",
    "print('El tiempo de atención promedio fue:',np.mean(T_atencion))\n",
    "print('Los ingresos totales fueron:',G_total)\n",
    "print('La rentabilidad fue de:',np.array(G_total)*.6)\n",
    "print('La rentabilidad promedio fue:',np.mean(np.array(G_total)*.6))\n",
    "print('El atención promedio por persona fue:',np.mean(T_atencionPersonas)/60)"
   ]
  },
  {
   "cell_type": "markdown",
   "metadata": {},
   "source": [
    "## Programación funcional y vectorizada"
   ]
  },
  {
   "cell_type": "code",
   "execution_count": 3,
   "metadata": {},
   "outputs": [],
   "source": [
    "# Definición de la función que simula la cafetería del ITESO\n",
    "def SimCafeteria(Personas,T):\n",
    "    # Información suministrada por la cafetería del ITESO\n",
    "    T = 25200\n",
    "    d = 5\n",
    "    Tat_min = 5; Tat_max=30\n",
    "    Tmujer_min = 60; Tmujer_max = 150\n",
    "    Thombre_min = 40; Thombre_max = 120\n",
    "    Gmujer_min = 30; Gmujer_max = 100\n",
    "    Ghombre_min = 20; Ghombre_max=80\n",
    "    \n",
    "    # Inicialización de variables usadas para almacenar información solicitada\n",
    "    g_hombre = 0\n",
    "    g_mujer = 0\n",
    "    g_total = 0\n",
    "    t_atencion = 0\n",
    "    cant_mujer = 0\n",
    "    cant_hombre = 0\n",
    "    i = 0\n",
    "    t_persona = 0\n",
    "    T_atencionPersonas = []   # Lista para almacenar el tiempo de atención de cada cliente\n",
    "    while T >= t_atencion:\n",
    "        t_llegada = np.random.uniform(Tat_min,Tat_max)\n",
    "        if Personas[i]<0.5:\n",
    "            t_mujer = np.random.uniform(Tmujer_min,Tmujer_max)\n",
    "            g_mujer += np.random.uniform(Gmujer_min,Gmujer_max)\n",
    "            t_atencion += t_mujer + t_llegada\n",
    "            g_total += g_mujer\n",
    "            t_persona = t_mujer + t_llegada\n",
    "            cant_mujer += 1\n",
    "        else:\n",
    "            t_hombre = np.random.uniform(Thombre_min,Thombre_max)\n",
    "            g_hombre += np.random.uniform(Ghombre_min,Ghombre_max)\n",
    "            t_atencion += t_hombre + t_llegada\n",
    "            g_total += g_hombre\n",
    "            t_persona = t_hombre + t_llegada\n",
    "            cant_hombre += 1\n",
    "        i+=1\n",
    "        T_atencionPersonas.append(t_persona)\n",
    "    t_ave_atencion = np.mean(T_atencionPersonas)\n",
    "    return np.array([g_mujer,g_hombre,t_atencion,cant_mujer,cant_hombre,t_ave_atencion,i])"
   ]
  },
  {
   "cell_type": "code",
   "execution_count": 7,
   "metadata": {},
   "outputs": [
    {
     "name": "stdout",
     "output_type": "stream",
     "text": [
      "Los gastos de hombres en los 5 días fueron: [5842.36114876 5625.58081913 5765.59782062 5653.0487511  5514.5217044 ]\n"
     ]
    }
   ],
   "source": [
    "# Correr la función la cantidad de veces necesarias\n",
    "T = 25200\n",
    "Personas = np.random.rand(T)\n",
    "\n",
    "# e = np.array([SimCafeteria(Personas,T) for i in range(5)])\n",
    "e = list(map(lambda n:SimCafeteria(Personas,T), range(5)))\n",
    "e = np.array(e,ndmin=1)\n",
    "e\n",
    "# print(e[:,-1])\n",
    "print('Los gastos de hombres en los 5 días fueron:',e[:,1])\n",
    "# print('En promedio los hombres gastaron:',np.mean(e[:,1]))\n",
    "# print('Los gastos de mujeres en los 5 días fueron:',e[:,0])\n",
    "# print('En promedio los mujeres gastaron:',np.mean(e[:,0]))\n",
    "# print('El número de personas atendidas fueron:',e[:,-1])"
   ]
  }
 ],
 "metadata": {
  "kernelspec": {
   "display_name": "Python 3",
   "language": "python",
   "name": "python3"
  },
  "language_info": {
   "codemirror_mode": {
    "name": "ipython",
    "version": 3
   },
   "file_extension": ".py",
   "mimetype": "text/x-python",
   "name": "python",
   "nbconvert_exporter": "python",
   "pygments_lexer": "ipython3",
   "version": "3.6.5"
  }
 },
 "nbformat": 4,
 "nbformat_minor": 2
}
