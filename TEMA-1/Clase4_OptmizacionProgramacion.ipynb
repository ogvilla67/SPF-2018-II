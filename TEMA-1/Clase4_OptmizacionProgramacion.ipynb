{
 "cells": [
  {
   "cell_type": "markdown",
   "metadata": {},
   "source": [
    "# Optimización de código "
   ]
  },
  {
   "cell_type": "markdown",
   "metadata": {},
   "source": [
    "## Formas de optimizar el código en las `funciones` y los ciclos `for`"
   ]
  },
  {
   "cell_type": "markdown",
   "metadata": {},
   "source": [
    "Para ilustrar el método usemos el siguiente ejemplo: Muestre en una lista cada una de las letras de la siguiente variable `oldlist = 'Este es el texto de ejemplo'` en letra mayúscula."
   ]
  },
  {
   "cell_type": "code",
   "execution_count": 4,
   "metadata": {},
   "outputs": [
    {
     "name": "stdout",
     "output_type": "stream",
     "text": [
      "['E', 'S', 'T', 'E', ' ', 'E', 'S', ' ', 'E', 'L', ' ', 'T', 'E', 'X', 'T', 'O', ' ', 'D', 'E', ' ', 'E', 'J', 'E', 'M', 'P', 'L', 'O']\n"
     ]
    }
   ],
   "source": [
    "# Posible solución\n",
    "oldlist = 'Este es el texto de ejemplo'\n",
    "newlist = []\n",
    "for word in oldlist:\n",
    "    newlist.append(word.upper())\n",
    "print(newlist)"
   ]
  },
  {
   "cell_type": "markdown",
   "metadata": {},
   "source": [
    "- **Evitando puntos ... **\n",
    " \n",
    "Suponemos que no puedes usar la función `map` o una lista de compresión. Puede estar atascado con el bucle for. El ejemplo de bucle for tiene otra ineficiencia. Tanto `newlist.append ` como `word.upper` son referencias de funciones que se reevalúan cada vez a través del ciclo. El bucle original puede ser reemplazado por:"
   ]
  },
  {
   "cell_type": "code",
   "execution_count": 5,
   "metadata": {
    "scrolled": true
   },
   "outputs": [
    {
     "name": "stdout",
     "output_type": "stream",
     "text": [
      "['E', 'S', 'T', 'E', ' ', 'E', 'S', ' ', 'E', 'L', ' ', 'T', 'E', 'X', 'T', 'O', ' ', 'D', 'E', ' ', 'E', 'J', 'E', 'M', 'P', 'L', 'O']\n"
     ]
    }
   ],
   "source": [
    "oldlist = 'Este es el texto de ejemplo'\n",
    "upper = str.upper\n",
    "newlist = []\n",
    "append = newlist.append\n",
    "for word in oldlist:\n",
    "    append(upper(word))\n",
    "print(newlist)"
   ]
  },
  {
   "cell_type": "markdown",
   "metadata": {},
   "source": [
    "- **Variables locales.**\n",
    "\n",
    "La aceleración final disponible para nosotros para la versión que no es un `map` del bucle for, es usar variables locales siempre que sea posible. Si el ciclo anterior se convierte como una función, las variables append y upper se convierten en locales. Python accede a las variables locales de forma mucho más eficiente que las variables globales."
   ]
  },
  {
   "cell_type": "code",
   "execution_count": 149,
   "metadata": {
    "collapsed": true
   },
   "outputs": [],
   "source": [
    "# Generación de función para utilizar variables locales\n",
    "def func(oldlist):\n",
    "    upper = str.upper\n",
    "    newlist = []\n",
    "    append = newlist.append\n",
    "    for word in oldlist:\n",
    "        append(upper(word))\n",
    "    return newlist"
   ]
  },
  {
   "cell_type": "code",
   "execution_count": 4,
   "metadata": {},
   "outputs": [],
   "source": [
    "# Librerías a usar en todo el programa\n",
    "import numpy as np\n",
    "import time,math \n",
    "import matplotlib.pyplot as plt"
   ]
  },
  {
   "cell_type": "markdown",
   "metadata": {},
   "source": [
    "## Funciones lambda\n",
    "\n",
    "Las funciones `lambda` o funciones anónimas, son un tipo de función que introduce python en su estructura, en donde se usa frecuentemente en dos situaciones principales: (a) si la función es bastante simple, y (b) si solo se usará una vez. Las funciones de Lambda se pueden usar donde sea que se requieran objetos de función\n",
    "\n",
    "Python utiliza dos formas distintas de crear funciones: usando la sintáxis `def` y `lambda`. A continuación se muestran dos ejemplos de los usos de estas dos sintaxis:\n",
    "\n",
    "#### Ejemplo raiz cuadrada"
   ]
  },
  {
   "cell_type": "code",
   "execution_count": 69,
   "metadata": {},
   "outputs": [
    {
     "name": "stdout",
     "output_type": "stream",
     "text": [
      "Usando la sintáxis def obtenemos: 2.0\n",
      "Usando la sintáxis lambda obtenemos: 2.0\n"
     ]
    }
   ],
   "source": [
    "###### Usando la sintáxis def\n",
    "def square_root1(x): return math.sqrt(x)\n",
    "\n",
    "###### Usando la sintaxis lambda\n",
    "square_root2 = lambda x: math.sqrt(x)\n",
    "\n",
    "print('Usando la sintáxis def obtenemos:',square_root1(4))\n",
    "print('Usando la sintáxis lambda obtenemos:',square_root2(4))"
   ]
  },
  {
   "cell_type": "markdown",
   "metadata": {},
   "source": [
    "Normalmente, las funciones se crean para uno de dos propósitos: (a) reducir la duplicación de código, o (b) modularizar el código.\n",
    "\n",
    "Si tienes una función que es usada una única vez, no necesitas darle un nombre a la función. Puede ser 'anónima' y además puede definirla justo en el lugar donde desea usarlo. Ahí es donde `lambda` es útil."
   ]
  },
  {
   "cell_type": "markdown",
   "metadata": {},
   "source": [
    "## ¿Porqué el uso de la función lambda es en ocasiones confuso?\n",
    "\n",
    "**Primero:** Lambda es confuso porque: el requisito de que una lambda pueda tomar solo una expresión plantea la pregunta: ¿Qué es una expresión?. En Python, ¿cuál es la diferencia entre una expresión y una declaración (statement)?. Una buena respuesta es que una expresión devuelve (o evalúa) un valor, mientras que una declaración no.\n",
    "\n",
    "Una pregunta que resulta entonces, es ¿qué tipo de cosas puedo, y no puedo, poner en una función lambda? Y la respuesta a esa pregunta es básicamente\n",
    "   - Si no devuelve un valor, no es una expresión y no se puede poner en una lambda.\n",
    "   - Si puede imaginarlo en una declaración de asignación, en el lado derecho del signo igual, es una expresión y puede colocarse en una lambda.\n",
    "\n",
    "Usando estas reglas podríamos entonces llegar a las siguientes conclusiones:\n",
    "\n",
    "*1*. Los enunciados de asignación no se pueden usar en lambda. En Python, las declaraciones de asignación no devuelven nada, ni siquiera Ninguno (nulo).\n",
    "     \n",
    "**Ejemplo**"
   ]
  },
  {
   "cell_type": "code",
   "execution_count": 6,
   "metadata": {},
   "outputs": [
    {
     "ename": "SyntaxError",
     "evalue": "can't assign to lambda (<ipython-input-6-4fc685d7e72c>, line 1)",
     "output_type": "error",
     "traceback": [
      "\u001b[1;36m  File \u001b[1;32m\"<ipython-input-6-4fc685d7e72c>\"\u001b[1;36m, line \u001b[1;32m1\u001b[0m\n\u001b[1;33m    s = lambda a: h=a\u001b[0m\n\u001b[1;37m       ^\u001b[0m\n\u001b[1;31mSyntaxError\u001b[0m\u001b[1;31m:\u001b[0m can't assign to lambda\n"
     ]
    }
   ],
   "source": [
    "s = lambda a: h=a\n",
    "s(1)"
   ]
  },
  {
   "cell_type": "markdown",
   "metadata": {},
   "source": [
    "*2*. Cosas simples como operaciones matemáticas, operaciones de cadenas, comprensión de listas, etc. están bien en una lambda.\n",
    "\n",
    "*3*. Las llamadas a funciones son expresiones. Está bien colocar una llamada de función en un lambda y pasar argumentos a esa función. Al hacerlo, envuelve la llamada a la función (argumentos y todo) dentro de una nueva función anónima. Incluso la función `print` puede ser usada dentro de una función lambda.\n",
    "\n",
    "**Ejemplo**"
   ]
  },
  {
   "cell_type": "code",
   "execution_count": 87,
   "metadata": {},
   "outputs": [
    {
     "name": "stdout",
     "output_type": "stream",
     "text": [
      "la suma de 3 y 4 a la potencia 2 es: 49.0\n"
     ]
    }
   ],
   "source": [
    "def suma(a,b):\n",
    "    return a+b\n",
    "\n",
    "# función anónima\n",
    "suma_potencia = lambda n,a,b: \\\n",
    "             print('la suma de %d y %d a la potencia %s es: %.1f' % (a,b,n, suma(a,b)**n))\n",
    "suma_potencia(2,3,4)"
   ]
  },
  {
   "cell_type": "markdown",
   "metadata": {},
   "source": [
    "*4*. Las expresiones condicionales, son expresiones (y no simplemente una sintaxis diferente para una instrucción if / else). Devuelven un valor y se pueden usar en una lambda\n",
    "   \n",
    "**Ejemplo**"
   ]
  },
  {
   "cell_type": "code",
   "execution_count": 89,
   "metadata": {
    "collapsed": true
   },
   "outputs": [],
   "source": [
    "f1 = lambda: a if some_condition() else b\n",
    "f2 = lambda x: 'big' if x > 100 else 'small'"
   ]
  },
  {
   "cell_type": "markdown",
   "metadata": {},
   "source": [
    "**Segundo:** Lambda es confuso porque: lambda generalmente se describe como una herramienta para crear funciones, pero una especificación lambda no contiene una declaración de *return*.\n",
    "\n",
    "La declaración de *return* está, en cierto sentido, implícita en una lambda. Como una especificación lambda debe contener solo una expresión, y esa expresión debe devolver un valor, una función anónima creada por lambda devuelve implícitamente el valor devuelto por la expresión. Esto tiene perfecto sentido. Aún así, la falta de una declaración de *return* explícita es, creo, parte de lo que hace que sea difícil asimilar lambda, o al menos, difícil asimilarlo rápidamente.\n",
    "\n",
    "**Ejemplo de combinación de los dos tipos de funciones**"
   ]
  },
  {
   "cell_type": "code",
   "execution_count": 93,
   "metadata": {
    "scrolled": true
   },
   "outputs": [
    {
     "name": "stdout",
     "output_type": "stream",
     "text": [
      "Incrementar en 0 unidades 42 \n",
      "Incrementar en 5 unidades 47\n"
     ]
    }
   ],
   "source": [
    "def make_incrementor(n):\n",
    "    return lambda x: x + n\n",
    "\n",
    "f = make_incrementor(42)\n",
    "i1 = 0; i2 = 5\n",
    "print('Incrementar en %d unidades'% i1, f(i1),'\\nIncrementar en %d unidades' %i2, f(i2))"
   ]
  },
  {
   "cell_type": "markdown",
   "metadata": {},
   "source": [
    "## - Función map()\n",
    "\n",
    "Puedes pensar en la función `map()` como un `for` movido al código C. La única restricción es que el 'cuerpo de bucle' de la función `map` debe ser una llamada a función. Además del beneficio sintáctico de las listas de compresión, a menudo son tan rápidas o más rápidas que el uso equivalente del `map`. La sintaxis de la función es:\n",
    "\n",
    "> `r = map(función, secuencia)`\n",
    "\n",
    "Con Python 3, map () devuelve un iterador, si queremos obtener los valores numéricos debemos usar compresión de listas o el comando `list`.\n",
    "\n",
    "**Ejemplos**"
   ]
  },
  {
   "cell_type": "code",
   "execution_count": 157,
   "metadata": {},
   "outputs": [
    {
     "name": "stdout",
     "output_type": "stream",
     "text": [
      "[102.56, 97.7, 99.14, 100.03999999999999]\n",
      "[39.2, 36.5, 37.300000000000004, 37.8]\n"
     ]
    }
   ],
   "source": [
    "Celsius = [39.2, 36.5, 37.3, 37.8]\n",
    "\n",
    "Fahrenheit = list(map(lambda x: (float(9)/5)*x + 32, Celsius))\n",
    "print(Fahrenheit)\n",
    "\n",
    "C = map(lambda x: (float(5)/9)*(x-32), Fahrenheit)\n",
    "print(list(C))"
   ]
  },
  {
   "cell_type": "code",
   "execution_count": 111,
   "metadata": {
    "scrolled": true
   },
   "outputs": [
    {
     "name": "stdout",
     "output_type": "stream",
     "text": [
      "Con el método de agregar datos a la lista: ['E', 'S', 'T', 'E', ' ', 'E', 'S', ' ', 'E', 'L', ' ', 'T', 'E', 'X', 'T', 'O', ' ', 'D', 'E', ' ', 'E', 'J', 'E', 'M', 'P', 'L', 'O']\n",
      "Usando la funcion map: ['E', 'S', 'T', 'E', ' ', 'E', 'S', ' ', 'E', 'L', ' ', 'T', 'E', 'X', 'T', 'O', ' ', 'D', 'E', ' ', 'E', 'J', 'E', 'M', 'P', 'L', 'O']\n",
      "Usando compresión de listas: ['E', 'S', 'T', 'E', ' ', 'E', 'S', ' ', 'E', 'L', ' ', 'T', 'E', 'X', 'T', 'O', ' ', 'D', 'E', ' ', 'E', 'J', 'E', 'M', 'P', 'L', 'O']\n"
     ]
    }
   ],
   "source": [
    "oldlist = 'Este es el texto de ejemplo'\n",
    "\n",
    "tiempo = []\n",
    "########### Agregando datos a una lista\n",
    "newlist1 = []\n",
    "for word in oldlist:\n",
    "    newlist1.append(word.upper())\n",
    "    \n",
    "############  Usando la función map\n",
    "newlist2 = map(str.upper, oldlist)\n",
    "\n",
    "############ Usando compresión de listas\n",
    "newlist3 = [s.upper() for s in oldlist]\n",
    "\n",
    "print('Con el método de agregar datos a la lista:',newlist1)\n",
    "print('Usando la funcion map:',[i for i in newlist2])\n",
    "print('Usando compresión de listas:', newlist3)\n"
   ]
  },
  {
   "cell_type": "markdown",
   "metadata": {},
   "source": [
    "- Mientras todavía utilizamos `lamda` como una función, podemos tener una lista de funciones como una secuencia:"
   ]
  },
  {
   "cell_type": "code",
   "execution_count": 8,
   "metadata": {},
   "outputs": [
    {
     "name": "stdout",
     "output_type": "stream",
     "text": [
      "[0, 0]\n",
      "[1, 1]\n",
      "[4, 8]\n",
      "[9, 27]\n",
      "[16, 64]\n"
     ]
    }
   ],
   "source": [
    "def square(x):\n",
    "        return (x**2)\n",
    "def cube(x):\n",
    "        return (x**3)\n",
    "\n",
    "funcs = [square, cube]\n",
    "for r in range(5):\n",
    "    value = list(map(lambda x: x(r), funcs))\n",
    "    print(value)"
   ]
  },
  {
   "cell_type": "markdown",
   "metadata": {},
   "source": [
    "-  Además de eso, la función `map` se puede usar de manera más avanzada. Por ejemplo, dados múltiples argumentos de secuencia, envía elementos tomados de secuencias en paralelo como argumentos distintos a la función:\n",
    "\n",
    "**Ejemplo**"
   ]
  },
  {
   "cell_type": "code",
   "execution_count": 9,
   "metadata": {},
   "outputs": [
    {
     "name": "stdout",
     "output_type": "stream",
     "text": [
      "Estos son los resultados de las potencias: 1024 243 177147 16777216\n",
      "Estos son los resultados usando map: [1024, 243, 177147, 16777216]\n"
     ]
    }
   ],
   "source": [
    "p1 = pow(2,10)\n",
    "p2 = pow(3,5)\n",
    "p3 = pow(3,11)\n",
    "p4 = pow(4,12)\n",
    "print('Estos son los resultados de las potencias:',p1,p2,p3,p4)\n",
    "\n",
    "pot_map = list(map(pow, [2, 3, 3, 4], [10, 5, 11, 12]))\n",
    "print('Estos son los resultados usando map:',pot_map)"
   ]
  },
  {
   "cell_type": "markdown",
   "metadata": {},
   "source": [
    "## - Función filter()\n",
    "\n",
    "La función `filter(función, lista)` ofrece una forma elegante de filtrar todos los elementos de una lista, para lo cual la función de función devuelve `True`. \n",
    "La función `filter(f, l)` necesita una función f como primer argumento. `f` devuelve un valor booleano, es decir, verdadero o falso. Esta función se aplicará a cada elemento de la lista `l`. Solo si `f` devuelve True, el elemento de la lista se incluirá en la lista de resultados.\n",
    "\n",
    "**Ejemplo**"
   ]
  },
  {
   "cell_type": "code",
   "execution_count": 160,
   "metadata": {},
   "outputs": [
    {
     "name": "stdout",
     "output_type": "stream",
     "text": [
      "Numeros impares de la lista: [1, 1, 3, 5, 13, 21, 55]\n",
      "Numeros pares de la lista: [0, 2, 8, 34]\n"
     ]
    }
   ],
   "source": [
    "fib = [0,1,1,2,3,5,8,13,21,34,55]\n",
    "# Selecciona los números impares de la lista\n",
    "result = list(filter(lambda x: x % 2, fib))\n",
    "print('Numeros impares de la lista:',result)\n",
    "\n",
    "# Selecciona los números pares de la lista\n",
    "result = list(filter(lambda x: x % 2 == 0, fib))\n",
    "print('Numeros pares de la lista:',result)\n"
   ]
  },
  {
   "attachments": {
    "imagen.png": {
     "image/png": "[encoded data removed]"
    }
   },
   "cell_type": "markdown",
   "metadata": {},
   "source": [
    "## - Función reduce()\n",
    "La función\n",
    "> reduce(func, secuencia)\n",
    "\n",
    "continuamente aplica la función func() a la secuencia. Devuelve un solo valor.\n",
    "\n",
    "Si `secuencia = [s1, s2, s3, ..., sn]`, la llamada de la función `reduce(func, secuencia)` funciona así: \n",
    " \n",
    "   - Al principio, los primeros dos elementos de secuencia se aplicarán a `func`, es decir, `func(s1, s2)`. La lista en la que se trabaja con reduce() se ve así: `[func (s1, s2), s3, ..., sn ] `\n",
    "   - En el siguiente paso, se aplicará func sobre el resultado anterior y el tercer elemento de la lista, es decir, `func (func (s1, s2), s3) `\n",
    "   - La lista se ve así ahora: [func (func (s1, s2), s3), ..., sn] \n",
    "   - Continuar así hasta que quede un solo elemento y devolver este elemento como resultado de reduce()\n",
    "\n",
    "![imagen.png](attachment:imagen.png)\n",
    "\n",
    "**Ejemplos**"
   ]
  },
  {
   "cell_type": "code",
   "execution_count": 166,
   "metadata": {
    "scrolled": true
   },
   "outputs": [
    {
     "name": "stdout",
     "output_type": "stream",
     "text": [
      "La suma de la lista es: 113\n",
      "El máximo valor de la lista es: 102\n",
      "El producto de la lista es: 12413915592536072670862289047373375038521486354677760000000000\n"
     ]
    }
   ],
   "source": [
    "from functools import reduce\n",
    "\n",
    "# Realiza la suma de los elementos de una lista\n",
    "print('La suma de la lista es:',reduce(lambda x,y: x+y, [47,11,42,13]))\n",
    "\n",
    "# Determinar el máximo de una lista de valores numéricos \n",
    "f = lambda a,b: a if (a > b) else b\n",
    "print('El máximo valor de la lista es:',reduce(f, [47,11,42,102,13]))\n",
    "\n",
    "# Calcular el producto de una lista \n",
    "print('El producto de la lista es:',reduce(lambda x, y: x*y, range(1,49)))"
   ]
  },
  {
   "cell_type": "markdown",
   "metadata": {},
   "source": [
    "> Página donde pueden profundizar un poco más acerca de las funciones `map, filter, and reduce` [Enlace](http://www.bogotobogo.com/python/python_fncs_map_filter_reduce.php)"
   ]
  },
  {
   "cell_type": "markdown",
   "metadata": {},
   "source": [
    "## Comparación tiempo de simulación para grandes cantidades de datos \n",
    "\n",
    "Lo que se pretende en este apartado es mostrar la forma mas eficiente de realizar cálculos cuando se tiene gran cantidad de datos. Se comparán las técnicas tales como: ciclos for, paquete numpy, compresión de listas y la función map. Para efectos de simulación se desea comparar los tiempos necesarios para calular el valor del $log_{10}$ para un vector de tamaño $1\\times 10^7$, que contiene valores aleatorios flotantes obtenidos mediante un distribución normal, para las cuatro técnicas mencionadas anteriormente."
   ]
  },
  {
   "cell_type": "code",
   "execution_count": 6,
   "metadata": {},
   "outputs": [
    {
     "name": "stdout",
     "output_type": "stream",
     "text": [
      "Con ciclos for y agregando los resutados toma 4.4431774616241455 segundos\n"
     ]
    }
   ],
   "source": [
    "# Número de muestras\n",
    "N = 10**7\n",
    "# Lista con valores aleatorios\n",
    "l1 = np.random.normal(50,5,N)\n",
    "speed = []\n",
    "\n",
    "############ Usando ciclo for\n",
    "t1 = time.time()\n",
    "l2 = []\n",
    "for item in l1:\n",
    "    l2.append(math.log10(item))\n",
    "t2 = time.time()\n",
    "print(\"Con ciclos for y agregando los resutados toma {} segundos\".format(t2-t1))\n",
    "speed.append(t2-t1)"
   ]
  },
  {
   "cell_type": "code",
   "execution_count": 64,
   "metadata": {},
   "outputs": [
    {
     "name": "stdout",
     "output_type": "stream",
     "text": [
      "Usando la librería Numpy y el método log10 toma 0.13609814643859863 segundos\n"
     ]
    }
   ],
   "source": [
    "########### Usando numpy\n",
    "t1=time.time()\n",
    "a2=np.log10(l1)\n",
    "t2 = time.time()\n",
    "print(\"Usando la librería Numpy y el método log10 toma {} segundos\".format(t2-t1))\n",
    "speed.append(t2-t1)"
   ]
  },
  {
   "cell_type": "code",
   "execution_count": 65,
   "metadata": {},
   "outputs": [
    {
     "name": "stdout",
     "output_type": "stream",
     "text": [
      "Usando compresión de listas toma 3.2828609943389893 segundos\n"
     ]
    }
   ],
   "source": [
    "########### Usando comprensión de listas\n",
    "t1=time.time()\n",
    "cl=[math.log10(i) for i in l1]\n",
    "t2 = time.time()\n",
    "print(\"Usando compresión de listas toma {} segundos\".format(t2-t1))\n",
    "speed.append(t2-t1)"
   ]
  },
  {
   "cell_type": "code",
   "execution_count": 66,
   "metadata": {},
   "outputs": [
    {
     "name": "stdout",
     "output_type": "stream",
     "text": [
      "Usando la función map para el método log10 toma 3.6558868885040283 segundos\n"
     ]
    }
   ],
   "source": [
    "########### Usando map function \n",
    "t1 = time.time()\n",
    "m1 = map(lambda x:math.log10(x),l1)\n",
    "m1 = [i for i in m1]\n",
    "t2 = time.time()\n",
    "print(\"Usando la función map para el método log10 toma {} segundos\".format(t2-t1))\n",
    "speed.append(t2-t1)"
   ]
  },
  {
   "cell_type": "code",
   "execution_count": 170,
   "metadata": {},
   "outputs": [
    {
     "data": {
      "image/png": "[encoded data removed]",
      "text/plain": [
       "<matplotlib.figure.Figure at 0x26812754cc0>"
      ]
     },
     "metadata": {},
     "output_type": "display_data"
    }
   ],
   "source": [
    "ind = np.arange(1, 5)\n",
    "plt.bar(ind,speed)\n",
    "plt.xticks(ind,['Ciclo for', 'Numpy', 'Compresión de\\n listas','Función map'])\n",
    "plt.ylabel('Tiempo gastado ')\n",
    "plt.show()"
   ]
  },
  {
   "cell_type": "markdown",
   "metadata": {},
   "source": [
    "## Vectorizar distribución de poisson\n",
    "$$\\textbf{Función de densidad de probabilidad}\\\\p(k)=\\frac{\\lambda^k e^{-\\lambda}}{k!},\\quad k\\in \\mathbb{N}$$"
   ]
  },
  {
   "cell_type": "code",
   "execution_count": 172,
   "metadata": {},
   "outputs": [
    {
     "data": {
      "image/png": "[encoded data removed]",
      "text/plain": [
       "<matplotlib.figure.Figure at 0x2678d6f3630>"
      ]
     },
     "metadata": {},
     "output_type": "display_data"
    }
   ],
   "source": [
    "import scipy.special as sps \n",
    "from itertools import cycle  # Librería para hacer ciclos\n",
    "\n",
    "cycol = cycle('bgrcmk')\n",
    "\n",
    "p = lambda k,l:(l**k*np.exp(-l))/sps.gamma(k)\n",
    "\n",
    "# Como se haría de forma ineficiente\n",
    "l= 1\n",
    "for i in range(3):\n",
    "    P = []\n",
    "    c = next(cycol)\n",
    "    for k in range(60):\n",
    "        P.append(p(k,l))\n",
    "    plt.subplot(211)\n",
    "    plt.plot(P,'o',c=c,label='$\\lambda$=%s' % l, markersize=2)\n",
    "    plt.title('Densidad de distrución de probabilidad')\n",
    "    plt.legend()\n",
    "    \n",
    "    plt.subplot(212)\n",
    "    plt.plot(np.cumsum(P),'o',c=c,label='$\\lambda$=%s' % l, markersize=3)\n",
    "    plt.title('Distrución de probabilidad acumulada')\n",
    "    plt.legend()\n",
    "    plt.hlines(np.cumsum(P),range(len(P)),range(1,len(P)+1),color=c)\n",
    "    l +=20\n",
    "\n",
    "plt.subplots_adjust(hspace=.5)\n",
    "plt.show()"
   ]
  },
  {
   "cell_type": "code",
   "execution_count": 207,
   "metadata": {},
   "outputs": [
    {
     "data": {
      "image/png": "[encoded data removed]",
      "text/plain": [
       "<matplotlib.figure.Figure at 0x267fed94080>"
      ]
     },
     "metadata": {},
     "output_type": "display_data"
    }
   ],
   "source": [
    "# Forma vectorizada\n",
    "cycol = cycle('bgrcmk')\n",
    "N = 70\n",
    "k = np.arange(0,N)\n",
    "l = np.arange(1,42,20)\n",
    "p = lambda k,l:(l**k*np.exp(-l))/sps.gamma(k)\n",
    "ones = np.ones(len(k))\n",
    "for lamb2 in l:\n",
    "    L = lamb2*ones\n",
    "    P = list(map(p,k,L))\n",
    "    c = next(cycol)\n",
    "    plt.subplot(211)\n",
    "    plt.plot(P,'o',c=c,label='$\\lambda$=%d' % lamb2, markersize=2)\n",
    "    plt.legend()\n",
    "\n",
    "    plt.subplot(212)\n",
    "    plt.plot(np.cumsum(P),'o',c=c,label='$\\lambda$=%s' % lamb2, markersize=3)\n",
    "\n",
    "plt.title('Densidad de distrución de probabilidad')\n",
    "plt.legend()\n",
    "plt.subplots_adjust(hspace=.5)\n",
    "\n",
    "plt.show()\n"
   ]
  },
  {
   "attachments": {
    "imagen.png": {
     "image/png": "[encoded data removed]"
    }
   },
   "cell_type": "markdown",
   "metadata": {},
   "source": [
    "### Ejercicio:\n",
    "\n",
    "1. Imagine una rutina contable utilizada en una librería. Funciona en una lista con sublistas, que se ven así:\n",
    "![imagen.png](attachment:imagen.png)\n",
    "Escriba un programa en Python, que devuelve una lista con tuplas de tamaño 2. Cada tupla consiste en el número de pedido y el costo total del pedido. El producto debe aumentarse en 10€ si el valor de la orden es inferior a 100,00 €. \n",
    "Escribe un programa Python usando unicamente las funciones **lambda y map**.\n",
    "\n",
    "2. La misma librería, pero esta vez trabajamos en una lista diferente. Las sublistas de nuestras listas se ven así: \n",
    "[número de orden, (número de artículo, cantidad, precio por unidad), ... (número de artículo, cantidad, precio por unidad)] \n",
    "> orders = [ [1, (\"5464\", 4, 9.99), (\"8274\",18,12.99), (\"9744\", 9, 44.95)], \n",
    ">\t       [2, (\"5464\", 9, 9.99), (\"9744\", 9, 44.95)],\n",
    ">\t       [3, (\"5464\", 9, 9.99), (\"88112\", 11, 24.99)],\n",
    ">          [4, (\"8732\", 7, 11.99), (\"7733\",11,18.99), (\"88112\", 5, 39.95)] ]\n",
    "\n",
    "Escriba un programa que devuelva una lista de dos tuplas que tengan la información de (número de pedido, cantidad total de pedido). Utilice la función `Reduce`."
   ]
  },
  {
   "cell_type": "code",
   "execution_count": 1,
   "metadata": {},
   "outputs": [
    {
     "name": "stdout",
     "output_type": "stream",
     "text": [
      "[('34587', 163.8), ('98762', 284.0), ('77226', 108.85000000000001), ('88112', 84.97)]\n"
     ]
    }
   ],
   "source": [
    "########### Solución 1\n"
   ]
  },
  {
   "cell_type": "code",
   "execution_count": 2,
   "metadata": {},
   "outputs": [
    {
     "name": "stdout",
     "output_type": "stream",
     "text": [
      "[[1, 688.3299999999999], [2, 504.46000000000004], [3, 374.79999999999995], [4, 502.57]]\n"
     ]
    }
   ],
   "source": [
    "########### Solución 2\n",
    "\n"
   ]
  },
  {
   "cell_type": "markdown",
   "metadata": {},
   "source": [
    "3. Use filter to eliminate all words that are shorter than 4 letters from a list of words\n",
    "`list='the notion of a lambda function goes all the way back to the origin of computer science'`"
   ]
  },
  {
   "cell_type": "code",
   "execution_count": null,
   "metadata": {},
   "outputs": [],
   "source": [
    "########### Solución 3\n"
   ]
  },
  {
   "cell_type": "markdown",
   "metadata": {},
   "source": [
    "4. Use filter to determine the percentage of Fahrenheit temperatures in a list are within the range 32 to 80"
   ]
  },
  {
   "cell_type": "code",
   "execution_count": 15,
   "metadata": {},
   "outputs": [
    {
     "name": "stdout",
     "output_type": "stream",
     "text": [
      "[ 35.97387961  99.13294268  92.6178302   99.69549478  63.21119535\n",
      "  73.90387697  95.50028838  99.21476553  36.98251238 101.45813729\n",
      " 100.5917418   89.38159435  89.52156589  83.8084752   28.37990868\n",
      "  68.75395211  45.86132067  36.58307493  56.32208365  33.96219302\n",
      "  45.29071318  74.86289938  66.51091383  88.19316186  94.26635864\n",
      "  46.83131624 109.60744472 109.68427993  44.55796499  92.84146259]\n"
     ]
    }
   ],
   "source": [
    "########### Solución 4\n",
    "import numpy as np\n",
    "np.random.seed(55555)\n",
    "temperatures = np.random.uniform(25,110,30)\n",
    "print(temperatures)"
   ]
  },
  {
   "cell_type": "markdown",
   "metadata": {},
   "source": [
    "5. Use reduce to find the lower left corner (minimum x and minimum y value) for a list of point locations\n"
   ]
  },
  {
   "cell_type": "code",
   "execution_count": 38,
   "metadata": {},
   "outputs": [
    {
     "name": "stdout",
     "output_type": "stream",
     "text": [
      "[[17 97]\n",
      " [22 33]\n",
      " [37 46]\n",
      " [57 28]\n",
      " [11 25]\n",
      " [14  2]\n",
      " [74 16]\n",
      " [12 37]\n",
      " [35 21]\n",
      " [66 65]\n",
      " [86 58]\n",
      " [67 81]\n",
      " [ 0 48]\n",
      " [28 66]\n",
      " [76 22]\n",
      " [46 47]\n",
      " [64  7]\n",
      " [88 94]\n",
      " [65 13]\n",
      " [75 89]\n",
      " [23 17]\n",
      " [36 63]\n",
      " [62 36]\n",
      " [64 17]\n",
      " [18 19]\n",
      " [88 41]\n",
      " [21 49]\n",
      " [98 36]\n",
      " [81 73]\n",
      " [62 90]]\n"
     ]
    }
   ],
   "source": [
    "########### Solución 5\n",
    "np.random.seed(55555)\n",
    "point_xy = np.random.randint(0,100,[30,2])\n",
    "print(point_xy)"
   ]
  },
  {
   "cell_type": "markdown",
   "metadata": {},
   "source": [
    "<script>\n",
    "  $(document).ready(function(){\n",
    "    $('div.prompt').hide();\n",
    "    $('div.back-to-top').hide();\n",
    "    $('nav#menubar').hide();\n",
    "    $('.breadcrumb').hide();\n",
    "    $('.hidden-print').hide();\n",
    "  });\n",
    "</script>\n",
    "\n",
    "<footer id=\"attribution\" style=\"float:right; color:#808080; background:#fff;\">\n",
    "Created with Jupyter by Oscar David Jaramillo Zuluaga\n",
    "</footer>"
   ]
  }
 ],
 "metadata": {
  "kernelspec": {
   "display_name": "Python 3",
   "language": "python",
   "name": "python3"
  },
  "language_info": {
   "codemirror_mode": {
    "name": "ipython",
    "version": 3
   },
   "file_extension": ".py",
   "mimetype": "text/x-python",
   "name": "python",
   "nbconvert_exporter": "python",
   "pygments_lexer": "ipython3",
   "version": "3.6.6"
  }
 },
 "nbformat": 4,
 "nbformat_minor": 2
}
