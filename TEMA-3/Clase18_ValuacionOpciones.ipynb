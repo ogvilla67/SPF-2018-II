{
 "cells": [
  {
   "cell_type": "markdown",
   "metadata": {},
   "source": [
    "<img style=\"float: right; margin: 0px 0px 15px 15px;\" src=\"https://encrypted-tbn0.gstatic.com/images?q=tbn:ANd9GcSQt6eQo8JPYzYO4p6WmxLtccdtJ4X8WR6GzVVKbsMjyGvUDEn1mg\" width=\"300px\" height=\"100px\" />\n",
    "\n",
    "# Trabajando con opciones"
   ]
  },
  {
   "cell_type": "markdown",
   "metadata": {},
   "source": [
    "Una opción puede negociarse en el mercado secundario por lo que es importante determinar su valor $V_t$ para cada tiempo $t\\in [0, T]$. La ganancia que obtiene quién adquiere la opción se llama función de pago o \"payoff\" y claramente depende del valor del subyacente. \n",
    "\n",
    "Hay una gran variedad de opciones en el mercado y éstas se clasiflcan según su función de pago y la forma en que pueden ejercerse.  Las opciones que tienen como función de pago a\n",
    "$$ P(S(t),t)=max\\{S(T)-K,0\\} \\rightarrow \\text{En el caso de Call}$$ \n",
    "$$ P(S(t),t)=max\\{K-S(T),0\\} \\rightarrow \\text{En el caso de Put}$$ \n",
    "se llaman opciones **Vainilla**, con $h:[0,\\infty) \\to [0,\\infty)$.\n",
    "\n",
    "La opción se llama **europea** si puede ejercerse sólo en la fecha de vencimiento.\n",
    "\n",
    "Se dice que una opción es **americana** si puede ejercerse en cualquier momento antes o en la fecha de vencimiento.\n",
    "\n",
    "Una opción compleja popular son las llamadas **opciones asiáticas** cuyos pagos dependen de todas las trayectorias del precio de los activos subyacentes. Las opciones cuyos pagos dependen de las trayectorias de los precios de los activos subyacentes se denominan opciones dependientes de la ruta.\n",
    "\n",
    "Principalmente, se puede resumir que las dos razones con más peso de importancia para utilizar opciones son el **aseguramiento** y la **especulación**.\n",
    "\n",
    "## Opciones Plan Vainilla: opción de compra y opción de venta europea\n",
    "\n",
    "Una opción vainilla o estándar es una opción normal de compra o venta que no tiene características especiales o inusuales. Puede ser para tamaños y vencimientos estandarizados, y negociarse en un intercambio.\n",
    "En comparación con otras estructuras de opciones, las opciones de vanilla no son sofisticadas o complicadas.\n"
   ]
  },
  {
   "cell_type": "markdown",
   "metadata": {},
   "source": [
    "## 1. ¿Cómo descargar datos de opciones?"
   ]
  },
  {
   "cell_type": "code",
   "execution_count": 1,
   "metadata": {},
   "outputs": [],
   "source": [
    "#importar los paquetes que se van a usar\n",
    "import pandas as pd\n",
    "import pandas_datareader.data as web\n",
    "import numpy as np\n",
    "import datetime\n",
    "import matplotlib.pyplot as plt\n",
    "import scipy.stats as st\n",
    "import seaborn as sns\n",
    "%matplotlib inline\n",
    "#algunas opciones para Pandas\n",
    "pd.set_option('display.notebook_repr_html', True)\n",
    "pd.set_option('display.max_columns', 6)\n",
    "pd.set_option('display.max_rows', 10)\n",
    "pd.set_option('display.width', 78)\n",
    "pd.set_option('precision', 3)"
   ]
  },
  {
   "cell_type": "markdown",
   "metadata": {},
   "source": [
    "Usando el paquete `pandas_datareader` también podemos descargar datos de opciones. Por ejemplo, descarguemos los datos de las opciones cuyo activo subyacente son las acciones de Apple"
   ]
  },
  {
   "cell_type": "code",
   "execution_count": 2,
   "metadata": {},
   "outputs": [
    {
     "data": {
      "text/html": [
       "<div>\n",
       "<style scoped>\n",
       "    .dataframe tbody tr th:only-of-type {\n",
       "        vertical-align: middle;\n",
       "    }\n",
       "\n",
       "    .dataframe tbody tr th {\n",
       "        vertical-align: top;\n",
       "    }\n",
       "\n",
       "    .dataframe thead th {\n",
       "        text-align: right;\n",
       "    }\n",
       "</style>\n",
       "<table border=\"1\" class=\"dataframe\">\n",
       "  <thead>\n",
       "    <tr style=\"text-align: right;\">\n",
       "      <th></th>\n",
       "      <th>Strike</th>\n",
       "      <th>Type</th>\n",
       "      <th>Symbol</th>\n",
       "      <th>...</th>\n",
       "      <th>Quote_Time</th>\n",
       "      <th>Last_Trade_Date</th>\n",
       "      <th>JSON</th>\n",
       "    </tr>\n",
       "    <tr>\n",
       "      <th>Expiry</th>\n",
       "      <th></th>\n",
       "      <th></th>\n",
       "      <th></th>\n",
       "      <th></th>\n",
       "      <th></th>\n",
       "      <th></th>\n",
       "      <th></th>\n",
       "    </tr>\n",
       "  </thead>\n",
       "  <tbody>\n",
       "    <tr>\n",
       "      <th>2018-11-16</th>\n",
       "      <td>2.5</td>\n",
       "      <td>call</td>\n",
       "      <td>AAPL181116C00002500</td>\n",
       "      <td>...</td>\n",
       "      <td>2018-10-29 23:57:06</td>\n",
       "      <td>2018-10-25 19:59:59</td>\n",
       "      <td>{'contractSymbol': 'AAPL181116C00002500', 'str...</td>\n",
       "    </tr>\n",
       "    <tr>\n",
       "      <th>2019-01-18</th>\n",
       "      <td>2.5</td>\n",
       "      <td>call</td>\n",
       "      <td>AAPL190118C00002500</td>\n",
       "      <td>...</td>\n",
       "      <td>2018-10-29 23:57:06</td>\n",
       "      <td>2018-10-15 19:47:03</td>\n",
       "      <td>{'contractSymbol': 'AAPL190118C00002500', 'str...</td>\n",
       "    </tr>\n",
       "    <tr>\n",
       "      <th>2019-04-18</th>\n",
       "      <td>2.5</td>\n",
       "      <td>call</td>\n",
       "      <td>AAPL190418C00002500</td>\n",
       "      <td>...</td>\n",
       "      <td>2018-10-29 23:57:06</td>\n",
       "      <td>2018-10-16 18:42:10</td>\n",
       "      <td>{'contractSymbol': 'AAPL190418C00002500', 'str...</td>\n",
       "    </tr>\n",
       "    <tr>\n",
       "      <th>2018-11-16</th>\n",
       "      <td>5.0</td>\n",
       "      <td>call</td>\n",
       "      <td>AAPL181116C00005000</td>\n",
       "      <td>...</td>\n",
       "      <td>2018-10-29 23:57:06</td>\n",
       "      <td>2018-10-06 03:49:57</td>\n",
       "      <td>{'contractSymbol': 'AAPL181116C00005000', 'str...</td>\n",
       "    </tr>\n",
       "    <tr>\n",
       "      <th>2019-01-18</th>\n",
       "      <td>5.0</td>\n",
       "      <td>call</td>\n",
       "      <td>AAPL190118C00005000</td>\n",
       "      <td>...</td>\n",
       "      <td>2018-10-29 23:57:06</td>\n",
       "      <td>2018-09-08 03:58:48</td>\n",
       "      <td>{'contractSymbol': 'AAPL190118C00005000', 'str...</td>\n",
       "    </tr>\n",
       "    <tr>\n",
       "      <th>...</th>\n",
       "      <td>...</td>\n",
       "      <td>...</td>\n",
       "      <td>...</td>\n",
       "      <td>...</td>\n",
       "      <td>...</td>\n",
       "      <td>...</td>\n",
       "      <td>...</td>\n",
       "    </tr>\n",
       "    <tr>\n",
       "      <th>2019-04-18</th>\n",
       "      <td>425.0</td>\n",
       "      <td>put</td>\n",
       "      <td>AAPL190418P00425000</td>\n",
       "      <td>...</td>\n",
       "      <td>2018-10-29 23:57:06</td>\n",
       "      <td>2018-10-29 19:49:02</td>\n",
       "      <td>{'contractSymbol': 'AAPL190418P00425000', 'str...</td>\n",
       "    </tr>\n",
       "    <tr>\n",
       "      <th>2018-11-16</th>\n",
       "      <td>430.0</td>\n",
       "      <td>put</td>\n",
       "      <td>AAPL181116P00430000</td>\n",
       "      <td>...</td>\n",
       "      <td>2018-10-29 23:57:06</td>\n",
       "      <td>2018-10-29 23:32:09</td>\n",
       "      <td>{'contractSymbol': 'AAPL181116P00430000', 'str...</td>\n",
       "    </tr>\n",
       "    <tr>\n",
       "      <th>2018-11-16</th>\n",
       "      <td>435.0</td>\n",
       "      <td>put</td>\n",
       "      <td>AAPL181116P00435000</td>\n",
       "      <td>...</td>\n",
       "      <td>2018-10-29 23:57:06</td>\n",
       "      <td>2018-10-29 17:52:53</td>\n",
       "      <td>{'contractSymbol': 'AAPL181116P00435000', 'str...</td>\n",
       "    </tr>\n",
       "    <tr>\n",
       "      <th>2018-11-16</th>\n",
       "      <td>440.0</td>\n",
       "      <td>call</td>\n",
       "      <td>AAPL181116C00440000</td>\n",
       "      <td>...</td>\n",
       "      <td>2018-10-29 23:57:06</td>\n",
       "      <td>2018-10-08 13:30:33</td>\n",
       "      <td>{'contractSymbol': 'AAPL181116C00440000', 'str...</td>\n",
       "    </tr>\n",
       "    <tr>\n",
       "      <th>2018-11-16</th>\n",
       "      <td>440.0</td>\n",
       "      <td>put</td>\n",
       "      <td>AAPL181116P00440000</td>\n",
       "      <td>...</td>\n",
       "      <td>2018-10-29 23:57:06</td>\n",
       "      <td>2018-10-29 18:22:47</td>\n",
       "      <td>{'contractSymbol': 'AAPL181116P00440000', 'str...</td>\n",
       "    </tr>\n",
       "  </tbody>\n",
       "</table>\n",
       "<p>1178 rows × 18 columns</p>\n",
       "</div>"
      ],
      "text/plain": [
       "            Strike  Type               Symbol  \\\n",
       "Expiry                                          \n",
       "2018-11-16     2.5  call  AAPL181116C00002500   \n",
       "2019-01-18     2.5  call  AAPL190118C00002500   \n",
       "2019-04-18     2.5  call  AAPL190418C00002500   \n",
       "2018-11-16     5.0  call  AAPL181116C00005000   \n",
       "2019-01-18     5.0  call  AAPL190118C00005000   \n",
       "...            ...   ...                  ...   \n",
       "2019-04-18   425.0   put  AAPL190418P00425000   \n",
       "2018-11-16   430.0   put  AAPL181116P00430000   \n",
       "2018-11-16   435.0   put  AAPL181116P00435000   \n",
       "2018-11-16   440.0  call  AAPL181116C00440000   \n",
       "2018-11-16   440.0   put  AAPL181116P00440000   \n",
       "\n",
       "                                  ...                          \\\n",
       "Expiry                            ...                           \n",
       "2018-11-16                        ...                           \n",
       "2019-01-18                        ...                           \n",
       "2019-04-18                        ...                           \n",
       "2018-11-16                        ...                           \n",
       "2019-01-18                        ...                           \n",
       "...                               ...                           \n",
       "2019-04-18                        ...                           \n",
       "2018-11-16                        ...                           \n",
       "2018-11-16                        ...                           \n",
       "2018-11-16                        ...                           \n",
       "2018-11-16                        ...                           \n",
       "\n",
       "                    Quote_Time     Last_Trade_Date  \\\n",
       "Expiry                                               \n",
       "2018-11-16 2018-10-29 23:57:06 2018-10-25 19:59:59   \n",
       "2019-01-18 2018-10-29 23:57:06 2018-10-15 19:47:03   \n",
       "2019-04-18 2018-10-29 23:57:06 2018-10-16 18:42:10   \n",
       "2018-11-16 2018-10-29 23:57:06 2018-10-06 03:49:57   \n",
       "2019-01-18 2018-10-29 23:57:06 2018-09-08 03:58:48   \n",
       "...                        ...                 ...   \n",
       "2019-04-18 2018-10-29 23:57:06 2018-10-29 19:49:02   \n",
       "2018-11-16 2018-10-29 23:57:06 2018-10-29 23:32:09   \n",
       "2018-11-16 2018-10-29 23:57:06 2018-10-29 17:52:53   \n",
       "2018-11-16 2018-10-29 23:57:06 2018-10-08 13:30:33   \n",
       "2018-11-16 2018-10-29 23:57:06 2018-10-29 18:22:47   \n",
       "\n",
       "                                                         JSON  \n",
       "Expiry                                                         \n",
       "2018-11-16  {'contractSymbol': 'AAPL181116C00002500', 'str...  \n",
       "2019-01-18  {'contractSymbol': 'AAPL190118C00002500', 'str...  \n",
       "2019-04-18  {'contractSymbol': 'AAPL190418C00002500', 'str...  \n",
       "2018-11-16  {'contractSymbol': 'AAPL181116C00005000', 'str...  \n",
       "2019-01-18  {'contractSymbol': 'AAPL190118C00005000', 'str...  \n",
       "...                                                       ...  \n",
       "2019-04-18  {'contractSymbol': 'AAPL190418P00425000', 'str...  \n",
       "2018-11-16  {'contractSymbol': 'AAPL181116P00430000', 'str...  \n",
       "2018-11-16  {'contractSymbol': 'AAPL181116P00435000', 'str...  \n",
       "2018-11-16  {'contractSymbol': 'AAPL181116C00440000', 'str...  \n",
       "2018-11-16  {'contractSymbol': 'AAPL181116P00440000', 'str...  \n",
       "\n",
       "[1178 rows x 18 columns]"
      ]
     },
     "execution_count": 2,
     "metadata": {},
     "output_type": "execute_result"
    }
   ],
   "source": [
    "aapl = web.YahooOptions('AAPL')\n",
    "aapl_opt = aapl.get_all_data().reset_index()\n",
    "aapl_opt.set_index('Expiry')\n",
    "# aapl\n",
    "# closes = web.YahooDailyReader(ticker, start_date, end_date).read().sort_index('major_axis')"
   ]
  },
  {
   "cell_type": "code",
   "execution_count": 3,
   "metadata": {},
   "outputs": [
    {
     "data": {
      "text/plain": [
       "{'contractSymbol': 'AAPL210115P00130000',\n",
       " 'strike': 130.0,\n",
       " 'currency': 'USD',\n",
       " 'lastPrice': 5.45,\n",
       " 'change': 0.0,\n",
       " 'percentChange': 0.0,\n",
       " 'volume': 3,\n",
       " 'openInterest': 32,\n",
       " 'bid': 2.0,\n",
       " 'ask': 6.5,\n",
       " 'contractSize': 'REGULAR',\n",
       " 'expiration': 1610668800,\n",
       " 'lastTradeDate': 1540321422,\n",
       " 'impliedVolatility': 0.3266668896484375,\n",
       " 'inTheMoney': False}"
      ]
     },
     "execution_count": 3,
     "metadata": {},
     "output_type": "execute_result"
    }
   ],
   "source": [
    "# aapl_opt.loc[0, 'JSON']\n",
    "aapl_opt.loc[200, 'JSON']"
   ]
  },
  {
   "cell_type": "markdown",
   "metadata": {},
   "source": [
    "Una vez tenemos la información, podemos consultar de qué tipo son las opciones"
   ]
  },
  {
   "cell_type": "code",
   "execution_count": 4,
   "metadata": {},
   "outputs": [
    {
     "data": {
      "text/plain": [
       "0       call\n",
       "1       call\n",
       "2       call\n",
       "3       call\n",
       "4       call\n",
       "        ... \n",
       "1173     put\n",
       "1174     put\n",
       "1175     put\n",
       "1176    call\n",
       "1177     put\n",
       "Name: Type, Length: 1178, dtype: object"
      ]
     },
     "execution_count": 4,
     "metadata": {},
     "output_type": "execute_result"
    }
   ],
   "source": [
    "aapl_opt.loc[:, 'Type']"
   ]
  },
  {
   "cell_type": "markdown",
   "metadata": {},
   "source": [
    "o en que fecha expiran"
   ]
  },
  {
   "cell_type": "code",
   "execution_count": 5,
   "metadata": {},
   "outputs": [
    {
     "data": {
      "text/plain": [
       "0      2018-11-16\n",
       "1      2019-01-18\n",
       "2      2019-04-18\n",
       "3      2018-11-16\n",
       "4      2019-01-18\n",
       "          ...    \n",
       "1173   2019-04-18\n",
       "1174   2018-11-16\n",
       "1175   2018-11-16\n",
       "1176   2018-11-16\n",
       "1177   2018-11-16\n",
       "Name: Expiry, Length: 1178, dtype: datetime64[ns]"
      ]
     },
     "execution_count": 5,
     "metadata": {},
     "output_type": "execute_result"
    }
   ],
   "source": [
    "aapl_opt.loc[:, 'Expiry']"
   ]
  },
  {
   "cell_type": "markdown",
   "metadata": {},
   "source": [
    "Por otra parte, podríamos querer consultar todas las opciones de compra (call) que expiran en cierta fecha (2019-04-18)"
   ]
  },
  {
   "cell_type": "code",
   "execution_count": 6,
   "metadata": {},
   "outputs": [
    {
     "data": {
      "text/html": [
       "<div>\n",
       "<style scoped>\n",
       "    .dataframe tbody tr th:only-of-type {\n",
       "        vertical-align: middle;\n",
       "    }\n",
       "\n",
       "    .dataframe tbody tr th {\n",
       "        vertical-align: top;\n",
       "    }\n",
       "\n",
       "    .dataframe thead th {\n",
       "        text-align: right;\n",
       "    }\n",
       "</style>\n",
       "<table border=\"1\" class=\"dataframe\">\n",
       "  <thead>\n",
       "    <tr style=\"text-align: right;\">\n",
       "      <th></th>\n",
       "      <th>Strike</th>\n",
       "      <th>Expiry</th>\n",
       "      <th>Type</th>\n",
       "      <th>...</th>\n",
       "      <th>Quote_Time</th>\n",
       "      <th>Last_Trade_Date</th>\n",
       "      <th>JSON</th>\n",
       "    </tr>\n",
       "  </thead>\n",
       "  <tbody>\n",
       "    <tr>\n",
       "      <th>2</th>\n",
       "      <td>2.5</td>\n",
       "      <td>2019-04-18</td>\n",
       "      <td>call</td>\n",
       "      <td>...</td>\n",
       "      <td>2018-10-29 23:57:06</td>\n",
       "      <td>2018-10-16 18:42:10</td>\n",
       "      <td>{'contractSymbol': 'AAPL190418C00002500', 'str...</td>\n",
       "    </tr>\n",
       "    <tr>\n",
       "      <th>32</th>\n",
       "      <td>60.0</td>\n",
       "      <td>2019-04-18</td>\n",
       "      <td>call</td>\n",
       "      <td>...</td>\n",
       "      <td>2018-10-29 23:57:06</td>\n",
       "      <td>2018-10-16 18:42:17</td>\n",
       "      <td>{'contractSymbol': 'AAPL190418C00060000', 'str...</td>\n",
       "    </tr>\n",
       "    <tr>\n",
       "      <th>37</th>\n",
       "      <td>65.0</td>\n",
       "      <td>2019-04-18</td>\n",
       "      <td>call</td>\n",
       "      <td>...</td>\n",
       "      <td>2018-10-29 23:57:06</td>\n",
       "      <td>2018-10-16 18:42:17</td>\n",
       "      <td>{'contractSymbol': 'AAPL190418C00065000', 'str...</td>\n",
       "    </tr>\n",
       "    <tr>\n",
       "      <th>81</th>\n",
       "      <td>95.0</td>\n",
       "      <td>2019-04-18</td>\n",
       "      <td>call</td>\n",
       "      <td>...</td>\n",
       "      <td>2018-10-29 23:57:06</td>\n",
       "      <td>2018-10-16 18:42:18</td>\n",
       "      <td>{'contractSymbol': 'AAPL190418C00095000', 'str...</td>\n",
       "    </tr>\n",
       "    <tr>\n",
       "      <th>97</th>\n",
       "      <td>100.0</td>\n",
       "      <td>2019-04-18</td>\n",
       "      <td>call</td>\n",
       "      <td>...</td>\n",
       "      <td>2018-10-29 23:57:06</td>\n",
       "      <td>2018-10-08 15:25:47</td>\n",
       "      <td>{'contractSymbol': 'AAPL190418C00100000', 'str...</td>\n",
       "    </tr>\n",
       "    <tr>\n",
       "      <th>...</th>\n",
       "      <td>...</td>\n",
       "      <td>...</td>\n",
       "      <td>...</td>\n",
       "      <td>...</td>\n",
       "      <td>...</td>\n",
       "      <td>...</td>\n",
       "      <td>...</td>\n",
       "    </tr>\n",
       "    <tr>\n",
       "      <th>1165</th>\n",
       "      <td>400.0</td>\n",
       "      <td>2019-04-18</td>\n",
       "      <td>call</td>\n",
       "      <td>...</td>\n",
       "      <td>2018-10-29 23:57:06</td>\n",
       "      <td>2018-10-19 13:30:00</td>\n",
       "      <td>{'contractSymbol': 'AAPL190418C00400000', 'str...</td>\n",
       "    </tr>\n",
       "    <tr>\n",
       "      <th>1167</th>\n",
       "      <td>405.0</td>\n",
       "      <td>2019-04-18</td>\n",
       "      <td>call</td>\n",
       "      <td>...</td>\n",
       "      <td>2018-10-29 23:57:06</td>\n",
       "      <td>2018-10-16 18:42:16</td>\n",
       "      <td>{'contractSymbol': 'AAPL190418C00405000', 'str...</td>\n",
       "    </tr>\n",
       "    <tr>\n",
       "      <th>1168</th>\n",
       "      <td>410.0</td>\n",
       "      <td>2019-04-18</td>\n",
       "      <td>call</td>\n",
       "      <td>...</td>\n",
       "      <td>2018-10-29 23:57:06</td>\n",
       "      <td>2018-10-18 15:46:39</td>\n",
       "      <td>{'contractSymbol': 'AAPL190418C00410000', 'str...</td>\n",
       "    </tr>\n",
       "    <tr>\n",
       "      <th>1170</th>\n",
       "      <td>420.0</td>\n",
       "      <td>2019-04-18</td>\n",
       "      <td>call</td>\n",
       "      <td>...</td>\n",
       "      <td>2018-10-29 23:57:06</td>\n",
       "      <td>2018-10-26 14:59:37</td>\n",
       "      <td>{'contractSymbol': 'AAPL190418C00420000', 'str...</td>\n",
       "    </tr>\n",
       "    <tr>\n",
       "      <th>1172</th>\n",
       "      <td>425.0</td>\n",
       "      <td>2019-04-18</td>\n",
       "      <td>call</td>\n",
       "      <td>...</td>\n",
       "      <td>2018-10-29 23:57:06</td>\n",
       "      <td>2018-10-26 18:21:59</td>\n",
       "      <td>{'contractSymbol': 'AAPL190418C00425000', 'str...</td>\n",
       "    </tr>\n",
       "  </tbody>\n",
       "</table>\n",
       "<p>66 rows × 19 columns</p>\n",
       "</div>"
      ],
      "text/plain": [
       "      Strike     Expiry  Type  \\\n",
       "2        2.5 2019-04-18  call   \n",
       "32      60.0 2019-04-18  call   \n",
       "37      65.0 2019-04-18  call   \n",
       "81      95.0 2019-04-18  call   \n",
       "97     100.0 2019-04-18  call   \n",
       "...      ...        ...   ...   \n",
       "1165   400.0 2019-04-18  call   \n",
       "1167   405.0 2019-04-18  call   \n",
       "1168   410.0 2019-04-18  call   \n",
       "1170   420.0 2019-04-18  call   \n",
       "1172   425.0 2019-04-18  call   \n",
       "\n",
       "                            ...                                  Quote_Time  \\\n",
       "2                           ...                         2018-10-29 23:57:06   \n",
       "32                          ...                         2018-10-29 23:57:06   \n",
       "37                          ...                         2018-10-29 23:57:06   \n",
       "81                          ...                         2018-10-29 23:57:06   \n",
       "97                          ...                         2018-10-29 23:57:06   \n",
       "...                         ...                                         ...   \n",
       "1165                        ...                         2018-10-29 23:57:06   \n",
       "1167                        ...                         2018-10-29 23:57:06   \n",
       "1168                        ...                         2018-10-29 23:57:06   \n",
       "1170                        ...                         2018-10-29 23:57:06   \n",
       "1172                        ...                         2018-10-29 23:57:06   \n",
       "\n",
       "         Last_Trade_Date                                               JSON  \n",
       "2    2018-10-16 18:42:10  {'contractSymbol': 'AAPL190418C00002500', 'str...  \n",
       "32   2018-10-16 18:42:17  {'contractSymbol': 'AAPL190418C00060000', 'str...  \n",
       "37   2018-10-16 18:42:17  {'contractSymbol': 'AAPL190418C00065000', 'str...  \n",
       "81   2018-10-16 18:42:18  {'contractSymbol': 'AAPL190418C00095000', 'str...  \n",
       "97   2018-10-08 15:25:47  {'contractSymbol': 'AAPL190418C00100000', 'str...  \n",
       "...                  ...                                                ...  \n",
       "1165 2018-10-19 13:30:00  {'contractSymbol': 'AAPL190418C00400000', 'str...  \n",
       "1167 2018-10-16 18:42:16  {'contractSymbol': 'AAPL190418C00405000', 'str...  \n",
       "1168 2018-10-18 15:46:39  {'contractSymbol': 'AAPL190418C00410000', 'str...  \n",
       "1170 2018-10-26 14:59:37  {'contractSymbol': 'AAPL190418C00420000', 'str...  \n",
       "1172 2018-10-26 18:21:59  {'contractSymbol': 'AAPL190418C00425000', 'str...  \n",
       "\n",
       "[66 rows x 19 columns]"
      ]
     },
     "execution_count": 6,
     "metadata": {},
     "output_type": "execute_result"
    }
   ],
   "source": [
    "call06 = aapl_opt.loc[(aapl_opt.Expiry=='2019-04-18') & (aapl_opt.Type=='call')]\n",
    "call06"
   ]
  },
  {
   "cell_type": "markdown",
   "metadata": {},
   "source": [
    "## 2. ¿Qué es la volatilidad implícita?"
   ]
  },
  {
   "cell_type": "markdown",
   "metadata": {},
   "source": [
    "**Volatilidad:** desviación estándar de los rendimientos.\n",
    "- ¿Cómo se calcula?\n",
    "- ¿Para qué calcular la volatilidad?"
   ]
  },
  {
   "attachments": {
    "imagen.png": {
     "image/png": "[encoded data removed]"
    }
   },
   "cell_type": "markdown",
   "metadata": {},
   "source": [
    "- **Para valuar derivados**, por ejemplo **opciones**.\n",
    "- Método de valuación de riesgo neutral (se supone que el precio del activo $S_t$ no se ve afectado por el riesgo de mercado).\n",
    "\n",
    "Recorderis de cuantitativas:\n",
    "1. Ecuación de Black-Scholes\n",
    "$$ dS(t) = \\mu S(t) + \\sigma S(t)dW_t$$\n",
    "2. Solución de la ecuación\n",
    "\n",
    "El valor de una opción Europea de vainilla $V_t$ puede obtenerse por:\n",
    "$$V_t = F(t,S_t)$$ donde\n",
    "![imagen.png](attachment:imagen.png)\n",
    "3. Opción de compra europea, suponiendo que los precios del activo son lognormales\n",
    "4. Opción de venta europea, suponiendo que los precios del activo son lognormales"
   ]
  },
  {
   "cell_type": "markdown",
   "metadata": {},
   "source": [
    "Entonces, ¿qué es la **volatilidad implícita**?\n",
    "\n",
    "La volatilidad es una medida de la incertidumbre sobre el comportamiento futuro de un activo, que se mide habitualmente como la desviación típica de la rentabilidad de dicho activo. "
   ]
  },
  {
   "cell_type": "code",
   "execution_count": 7,
   "metadata": {},
   "outputs": [
    {
     "data": {
      "image/png": "[encoded data removed]",
      "text/plain": [
       "<Figure size 576x432 with 1 Axes>"
      ]
     },
     "metadata": {},
     "output_type": "display_data"
    }
   ],
   "source": [
    "ax = call06.set_index('Strike').loc[:, 'IV'].plot(figsize=(8,6))\n",
    "ax.axvline(call06.Underlying_Price.iloc[0], color='g');\n",
    "# call06.Underlying_Price"
   ]
  },
  {
   "cell_type": "code",
   "execution_count": 8,
   "metadata": {},
   "outputs": [
    {
     "data": {
      "text/html": [
       "<div>\n",
       "<style scoped>\n",
       "    .dataframe tbody tr th:only-of-type {\n",
       "        vertical-align: middle;\n",
       "    }\n",
       "\n",
       "    .dataframe tbody tr th {\n",
       "        vertical-align: top;\n",
       "    }\n",
       "\n",
       "    .dataframe thead th {\n",
       "        text-align: right;\n",
       "    }\n",
       "</style>\n",
       "<table border=\"1\" class=\"dataframe\">\n",
       "  <thead>\n",
       "    <tr style=\"text-align: right;\">\n",
       "      <th></th>\n",
       "      <th>Strike</th>\n",
       "      <th>Expiry</th>\n",
       "      <th>Type</th>\n",
       "      <th>...</th>\n",
       "      <th>Quote_Time</th>\n",
       "      <th>Last_Trade_Date</th>\n",
       "      <th>JSON</th>\n",
       "    </tr>\n",
       "  </thead>\n",
       "  <tbody>\n",
       "    <tr>\n",
       "      <th>22</th>\n",
       "      <td>50.0</td>\n",
       "      <td>2019-04-18</td>\n",
       "      <td>put</td>\n",
       "      <td>...</td>\n",
       "      <td>2018-10-29 23:57:06</td>\n",
       "      <td>2018-10-16 18:42:46</td>\n",
       "      <td>{'contractSymbol': 'AAPL190418P00050000', 'str...</td>\n",
       "    </tr>\n",
       "    <tr>\n",
       "      <th>27</th>\n",
       "      <td>55.0</td>\n",
       "      <td>2019-04-18</td>\n",
       "      <td>put</td>\n",
       "      <td>...</td>\n",
       "      <td>2018-10-29 23:57:06</td>\n",
       "      <td>2018-10-16 18:42:46</td>\n",
       "      <td>{'contractSymbol': 'AAPL190418P00055000', 'str...</td>\n",
       "    </tr>\n",
       "    <tr>\n",
       "      <th>38</th>\n",
       "      <td>65.0</td>\n",
       "      <td>2019-04-18</td>\n",
       "      <td>put</td>\n",
       "      <td>...</td>\n",
       "      <td>2018-10-29 23:57:06</td>\n",
       "      <td>2018-10-16 18:42:46</td>\n",
       "      <td>{'contractSymbol': 'AAPL190418P00065000', 'str...</td>\n",
       "    </tr>\n",
       "    <tr>\n",
       "      <th>44</th>\n",
       "      <td>70.0</td>\n",
       "      <td>2019-04-18</td>\n",
       "      <td>put</td>\n",
       "      <td>...</td>\n",
       "      <td>2018-10-29 23:57:06</td>\n",
       "      <td>2018-10-16 18:42:47</td>\n",
       "      <td>{'contractSymbol': 'AAPL190418P00070000', 'str...</td>\n",
       "    </tr>\n",
       "    <tr>\n",
       "      <th>55</th>\n",
       "      <td>80.0</td>\n",
       "      <td>2019-04-18</td>\n",
       "      <td>put</td>\n",
       "      <td>...</td>\n",
       "      <td>2018-10-29 23:57:06</td>\n",
       "      <td>2018-10-16 18:42:47</td>\n",
       "      <td>{'contractSymbol': 'AAPL190418P00080000', 'str...</td>\n",
       "    </tr>\n",
       "    <tr>\n",
       "      <th>...</th>\n",
       "      <td>...</td>\n",
       "      <td>...</td>\n",
       "      <td>...</td>\n",
       "      <td>...</td>\n",
       "      <td>...</td>\n",
       "      <td>...</td>\n",
       "      <td>...</td>\n",
       "    </tr>\n",
       "    <tr>\n",
       "      <th>1064</th>\n",
       "      <td>300.0</td>\n",
       "      <td>2019-04-18</td>\n",
       "      <td>put</td>\n",
       "      <td>...</td>\n",
       "      <td>2018-10-29 23:57:06</td>\n",
       "      <td>2018-10-08 13:45:48</td>\n",
       "      <td>{'contractSymbol': 'AAPL190418P00300000', 'str...</td>\n",
       "    </tr>\n",
       "    <tr>\n",
       "      <th>1109</th>\n",
       "      <td>325.0</td>\n",
       "      <td>2019-04-18</td>\n",
       "      <td>put</td>\n",
       "      <td>...</td>\n",
       "      <td>2018-10-29 23:57:06</td>\n",
       "      <td>2018-10-16 18:42:43</td>\n",
       "      <td>{'contractSymbol': 'AAPL190418P00325000', 'str...</td>\n",
       "    </tr>\n",
       "    <tr>\n",
       "      <th>1114</th>\n",
       "      <td>330.0</td>\n",
       "      <td>2019-04-18</td>\n",
       "      <td>put</td>\n",
       "      <td>...</td>\n",
       "      <td>2018-10-29 23:57:06</td>\n",
       "      <td>2018-09-08 03:44:29</td>\n",
       "      <td>{'contractSymbol': 'AAPL190418P00330000', 'str...</td>\n",
       "    </tr>\n",
       "    <tr>\n",
       "      <th>1142</th>\n",
       "      <td>350.0</td>\n",
       "      <td>2019-04-18</td>\n",
       "      <td>put</td>\n",
       "      <td>...</td>\n",
       "      <td>2018-10-29 23:57:06</td>\n",
       "      <td>2018-10-16 18:42:44</td>\n",
       "      <td>{'contractSymbol': 'AAPL190418P00350000', 'str...</td>\n",
       "    </tr>\n",
       "    <tr>\n",
       "      <th>1173</th>\n",
       "      <td>425.0</td>\n",
       "      <td>2019-04-18</td>\n",
       "      <td>put</td>\n",
       "      <td>...</td>\n",
       "      <td>2018-10-29 23:57:06</td>\n",
       "      <td>2018-10-29 19:49:02</td>\n",
       "      <td>{'contractSymbol': 'AAPL190418P00425000', 'str...</td>\n",
       "    </tr>\n",
       "  </tbody>\n",
       "</table>\n",
       "<p>52 rows × 19 columns</p>\n",
       "</div>"
      ],
      "text/plain": [
       "      Strike     Expiry Type  \\\n",
       "22      50.0 2019-04-18  put   \n",
       "27      55.0 2019-04-18  put   \n",
       "38      65.0 2019-04-18  put   \n",
       "44      70.0 2019-04-18  put   \n",
       "55      80.0 2019-04-18  put   \n",
       "...      ...        ...  ...   \n",
       "1064   300.0 2019-04-18  put   \n",
       "1109   325.0 2019-04-18  put   \n",
       "1114   330.0 2019-04-18  put   \n",
       "1142   350.0 2019-04-18  put   \n",
       "1173   425.0 2019-04-18  put   \n",
       "\n",
       "                            ...                                  Quote_Time  \\\n",
       "22                          ...                         2018-10-29 23:57:06   \n",
       "27                          ...                         2018-10-29 23:57:06   \n",
       "38                          ...                         2018-10-29 23:57:06   \n",
       "44                          ...                         2018-10-29 23:57:06   \n",
       "55                          ...                         2018-10-29 23:57:06   \n",
       "...                         ...                                         ...   \n",
       "1064                        ...                         2018-10-29 23:57:06   \n",
       "1109                        ...                         2018-10-29 23:57:06   \n",
       "1114                        ...                         2018-10-29 23:57:06   \n",
       "1142                        ...                         2018-10-29 23:57:06   \n",
       "1173                        ...                         2018-10-29 23:57:06   \n",
       "\n",
       "         Last_Trade_Date                                               JSON  \n",
       "22   2018-10-16 18:42:46  {'contractSymbol': 'AAPL190418P00050000', 'str...  \n",
       "27   2018-10-16 18:42:46  {'contractSymbol': 'AAPL190418P00055000', 'str...  \n",
       "38   2018-10-16 18:42:46  {'contractSymbol': 'AAPL190418P00065000', 'str...  \n",
       "44   2018-10-16 18:42:47  {'contractSymbol': 'AAPL190418P00070000', 'str...  \n",
       "55   2018-10-16 18:42:47  {'contractSymbol': 'AAPL190418P00080000', 'str...  \n",
       "...                  ...                                                ...  \n",
       "1064 2018-10-08 13:45:48  {'contractSymbol': 'AAPL190418P00300000', 'str...  \n",
       "1109 2018-10-16 18:42:43  {'contractSymbol': 'AAPL190418P00325000', 'str...  \n",
       "1114 2018-09-08 03:44:29  {'contractSymbol': 'AAPL190418P00330000', 'str...  \n",
       "1142 2018-10-16 18:42:44  {'contractSymbol': 'AAPL190418P00350000', 'str...  \n",
       "1173 2018-10-29 19:49:02  {'contractSymbol': 'AAPL190418P00425000', 'str...  \n",
       "\n",
       "[52 rows x 19 columns]"
      ]
     },
     "execution_count": 8,
     "metadata": {},
     "output_type": "execute_result"
    }
   ],
   "source": [
    "put06 = aapl_opt.loc[(aapl_opt.Expiry=='2019-04-18') & (aapl_opt.Type=='put')]\n",
    "put06"
   ]
  },
  {
   "cell_type": "code",
   "execution_count": 9,
   "metadata": {},
   "outputs": [
    {
     "data": {
      "text/plain": [
       "<matplotlib.lines.Line2D at 0x2396a31e080>"
      ]
     },
     "execution_count": 9,
     "metadata": {},
     "output_type": "execute_result"
    },
    {
     "data": {
      "image/png": "[encoded data removed]",
      "text/plain": [
       "<Figure size 576x432 with 1 Axes>"
      ]
     },
     "metadata": {},
     "output_type": "display_data"
    }
   ],
   "source": [
    "ax = put06.set_index('Strike').loc[:, 'IV'].plot(figsize=(8,6))\n",
    "ax.axvline(put06.Underlying_Price.iloc[0], color='g')"
   ]
  },
  {
   "cell_type": "markdown",
   "metadata": {},
   "source": [
    "Con lo que hemos aprendido, deberíamos ser capaces de crear una función que nos devuelva un `DataFrame` de `pandas` con los precios de cierre ajustados de ciertas compañías en ciertas fechas:\n",
    "- Escribir la función a continuación"
   ]
  },
  {
   "cell_type": "code",
   "execution_count": 10,
   "metadata": {},
   "outputs": [],
   "source": [
    "# Función para descargar precios de cierre ajustados de varios activos a la vez:\n",
    "def get_historical_closes(tickers, start_date=None, end_date=None, freq=None):\n",
    "    # Fecha inicio por defecto (start_date='2010-01-01') y fecha fin por defecto (end_date=today)\n",
    "    # Frecuencia de muestreo por defecto (freq='d')\n",
    "    # Importamos paquetes necesarios\n",
    "    import pandas as pd\n",
    "    pd.core.common.is_list_like = pd.api.types.is_list_like\n",
    "    import pandas_datareader.data as web  \n",
    "    # Creamos DataFrame vacío de precios, con el índice de las fechas\n",
    "    closes = pd.DataFrame(columns = tickers, index=web.YahooDailyReader(symbols=tickers[0], start=start_date, end=end_date, interval=freq).read().index)\n",
    "    # Agregamos cada uno de los precios con YahooDailyReader\n",
    "    for ticker in tickers:\n",
    "        df = web.YahooDailyReader(symbols=ticker, start=start_date, end=end_date, interval=freq).read()\n",
    "        closes[ticker]=df['Adj Close']\n",
    "    closes.index_name = 'Date'\n",
    "    closes = closes.sort_index()\n",
    "    return closes"
   ]
  },
  {
   "cell_type": "markdown",
   "metadata": {},
   "source": [
    "- Obtener como ejemplo los precios de cierre de Apple del año pasado hasta la fecha. Graficar..."
   ]
  },
  {
   "cell_type": "code",
   "execution_count": 11,
   "metadata": {},
   "outputs": [
    {
     "data": {
      "image/png": "[encoded data removed]",
      "text/plain": [
       "<Figure size 576x360 with 1 Axes>"
      ]
     },
     "metadata": {},
     "output_type": "display_data"
    }
   ],
   "source": [
    "ticker = ['AAPL']\n",
    "start_date = '2017-01-01'\n",
    "\n",
    "closes_aapl = get_historical_closes(ticker, start_date,freq='d')\n",
    "closes_aapl.plot(figsize=(8,5));\n",
    "plt.legend(ticker);"
   ]
  },
  {
   "cell_type": "markdown",
   "metadata": {},
   "source": [
    "- Escribir una función que pasándole el histórico de precios devuelva los rendimientos logarítmicos:"
   ]
  },
  {
   "cell_type": "code",
   "execution_count": 12,
   "metadata": {},
   "outputs": [],
   "source": [
    "def calc_daily_ret(closes):\n",
    "    return np.log(closes/closes.shift(1)).iloc[1:]"
   ]
  },
  {
   "cell_type": "markdown",
   "metadata": {},
   "source": [
    "- Graficar..."
   ]
  },
  {
   "cell_type": "code",
   "execution_count": 13,
   "metadata": {},
   "outputs": [
    {
     "data": {
      "image/png": "[encoded data removed]",
      "text/plain": [
       "<Figure size 576x432 with 1 Axes>"
      ]
     },
     "metadata": {},
     "output_type": "display_data"
    }
   ],
   "source": [
    "ret_aapl = calc_daily_ret(closes_aapl)\n",
    "ret_aapl.plot(figsize=(8,6));"
   ]
  },
  {
   "cell_type": "markdown",
   "metadata": {},
   "source": [
    "También, descargar datos de opciones de Apple:"
   ]
  },
  {
   "cell_type": "code",
   "execution_count": 14,
   "metadata": {
    "scrolled": false
   },
   "outputs": [
    {
     "data": {
      "text/html": [
       "<div>\n",
       "<style scoped>\n",
       "    .dataframe tbody tr th:only-of-type {\n",
       "        vertical-align: middle;\n",
       "    }\n",
       "\n",
       "    .dataframe tbody tr th {\n",
       "        vertical-align: top;\n",
       "    }\n",
       "\n",
       "    .dataframe thead th {\n",
       "        text-align: right;\n",
       "    }\n",
       "</style>\n",
       "<table border=\"1\" class=\"dataframe\">\n",
       "  <thead>\n",
       "    <tr style=\"text-align: right;\">\n",
       "      <th></th>\n",
       "      <th>Strike</th>\n",
       "      <th>Type</th>\n",
       "      <th>Symbol</th>\n",
       "      <th>...</th>\n",
       "      <th>Quote_Time</th>\n",
       "      <th>Last_Trade_Date</th>\n",
       "      <th>JSON</th>\n",
       "    </tr>\n",
       "    <tr>\n",
       "      <th>Expiry</th>\n",
       "      <th></th>\n",
       "      <th></th>\n",
       "      <th></th>\n",
       "      <th></th>\n",
       "      <th></th>\n",
       "      <th></th>\n",
       "      <th></th>\n",
       "    </tr>\n",
       "  </thead>\n",
       "  <tbody>\n",
       "    <tr>\n",
       "      <th>2018-11-02</th>\n",
       "      <td>265.0</td>\n",
       "      <td>call</td>\n",
       "      <td>AAPL181102C00265000</td>\n",
       "      <td>...</td>\n",
       "      <td>2018-10-29 23:57:06</td>\n",
       "      <td>2018-10-25 18:09:42</td>\n",
       "      <td>{'contractSymbol': 'AAPL181102C00265000', 'str...</td>\n",
       "    </tr>\n",
       "    <tr>\n",
       "      <th>2018-11-02</th>\n",
       "      <td>192.5</td>\n",
       "      <td>call</td>\n",
       "      <td>AAPL181102C00192500</td>\n",
       "      <td>...</td>\n",
       "      <td>2018-10-29 23:57:06</td>\n",
       "      <td>2018-10-29 19:56:49</td>\n",
       "      <td>{'contractSymbol': 'AAPL181102C00192500', 'str...</td>\n",
       "    </tr>\n",
       "    <tr>\n",
       "      <th>2018-11-02</th>\n",
       "      <td>267.5</td>\n",
       "      <td>call</td>\n",
       "      <td>AAPL181102C00267500</td>\n",
       "      <td>...</td>\n",
       "      <td>2018-10-29 23:57:06</td>\n",
       "      <td>2018-10-29 18:42:29</td>\n",
       "      <td>{'contractSymbol': 'AAPL181102C00267500', 'str...</td>\n",
       "    </tr>\n",
       "    <tr>\n",
       "      <th>2018-11-02</th>\n",
       "      <td>187.5</td>\n",
       "      <td>call</td>\n",
       "      <td>AAPL181102C00187500</td>\n",
       "      <td>...</td>\n",
       "      <td>2018-10-29 23:57:06</td>\n",
       "      <td>2018-10-29 18:21:39</td>\n",
       "      <td>{'contractSymbol': 'AAPL181102C00187500', 'str...</td>\n",
       "    </tr>\n",
       "    <tr>\n",
       "      <th>2018-11-02</th>\n",
       "      <td>237.5</td>\n",
       "      <td>call</td>\n",
       "      <td>AAPL181102C00237500</td>\n",
       "      <td>...</td>\n",
       "      <td>2018-10-29 23:57:06</td>\n",
       "      <td>2018-10-29 19:59:21</td>\n",
       "      <td>{'contractSymbol': 'AAPL181102C00237500', 'str...</td>\n",
       "    </tr>\n",
       "    <tr>\n",
       "      <th>...</th>\n",
       "      <td>...</td>\n",
       "      <td>...</td>\n",
       "      <td>...</td>\n",
       "      <td>...</td>\n",
       "      <td>...</td>\n",
       "      <td>...</td>\n",
       "      <td>...</td>\n",
       "    </tr>\n",
       "    <tr>\n",
       "      <th>2021-01-15</th>\n",
       "      <td>155.0</td>\n",
       "      <td>call</td>\n",
       "      <td>AAPL210115C00155000</td>\n",
       "      <td>...</td>\n",
       "      <td>2018-10-29 23:57:06</td>\n",
       "      <td>2018-10-11 16:42:59</td>\n",
       "      <td>{'contractSymbol': 'AAPL210115C00155000', 'str...</td>\n",
       "    </tr>\n",
       "    <tr>\n",
       "      <th>2021-01-15</th>\n",
       "      <td>155.0</td>\n",
       "      <td>put</td>\n",
       "      <td>AAPL210115P00155000</td>\n",
       "      <td>...</td>\n",
       "      <td>2018-10-29 23:57:06</td>\n",
       "      <td>2018-10-25 19:51:05</td>\n",
       "      <td>{'contractSymbol': 'AAPL210115P00155000', 'str...</td>\n",
       "    </tr>\n",
       "    <tr>\n",
       "      <th>2021-01-15</th>\n",
       "      <td>270.0</td>\n",
       "      <td>put</td>\n",
       "      <td>AAPL210115P00270000</td>\n",
       "      <td>...</td>\n",
       "      <td>2018-10-29 23:57:06</td>\n",
       "      <td>2018-10-29 18:07:55</td>\n",
       "      <td>{'contractSymbol': 'AAPL210115P00270000', 'str...</td>\n",
       "    </tr>\n",
       "    <tr>\n",
       "      <th>2021-01-15</th>\n",
       "      <td>175.0</td>\n",
       "      <td>call</td>\n",
       "      <td>AAPL210115C00175000</td>\n",
       "      <td>...</td>\n",
       "      <td>2018-10-29 23:57:06</td>\n",
       "      <td>2018-10-24 19:41:42</td>\n",
       "      <td>{'contractSymbol': 'AAPL210115C00175000', 'str...</td>\n",
       "    </tr>\n",
       "    <tr>\n",
       "      <th>2021-01-15</th>\n",
       "      <td>250.0</td>\n",
       "      <td>call</td>\n",
       "      <td>AAPL210115C00250000</td>\n",
       "      <td>...</td>\n",
       "      <td>2018-10-29 23:57:06</td>\n",
       "      <td>2018-10-29 19:00:35</td>\n",
       "      <td>{'contractSymbol': 'AAPL210115C00250000', 'str...</td>\n",
       "    </tr>\n",
       "  </tbody>\n",
       "</table>\n",
       "<p>1024 rows × 18 columns</p>\n",
       "</div>"
      ],
      "text/plain": [
       "            Strike  Type               Symbol  \\\n",
       "Expiry                                          \n",
       "2018-11-02   265.0  call  AAPL181102C00265000   \n",
       "2018-11-02   192.5  call  AAPL181102C00192500   \n",
       "2018-11-02   267.5  call  AAPL181102C00267500   \n",
       "2018-11-02   187.5  call  AAPL181102C00187500   \n",
       "2018-11-02   237.5  call  AAPL181102C00237500   \n",
       "...            ...   ...                  ...   \n",
       "2021-01-15   155.0  call  AAPL210115C00155000   \n",
       "2021-01-15   155.0   put  AAPL210115P00155000   \n",
       "2021-01-15   270.0   put  AAPL210115P00270000   \n",
       "2021-01-15   175.0  call  AAPL210115C00175000   \n",
       "2021-01-15   250.0  call  AAPL210115C00250000   \n",
       "\n",
       "                                  ...                          \\\n",
       "Expiry                            ...                           \n",
       "2018-11-02                        ...                           \n",
       "2018-11-02                        ...                           \n",
       "2018-11-02                        ...                           \n",
       "2018-11-02                        ...                           \n",
       "2018-11-02                        ...                           \n",
       "...                               ...                           \n",
       "2021-01-15                        ...                           \n",
       "2021-01-15                        ...                           \n",
       "2021-01-15                        ...                           \n",
       "2021-01-15                        ...                           \n",
       "2021-01-15                        ...                           \n",
       "\n",
       "                    Quote_Time     Last_Trade_Date  \\\n",
       "Expiry                                               \n",
       "2018-11-02 2018-10-29 23:57:06 2018-10-25 18:09:42   \n",
       "2018-11-02 2018-10-29 23:57:06 2018-10-29 19:56:49   \n",
       "2018-11-02 2018-10-29 23:57:06 2018-10-29 18:42:29   \n",
       "2018-11-02 2018-10-29 23:57:06 2018-10-29 18:21:39   \n",
       "2018-11-02 2018-10-29 23:57:06 2018-10-29 19:59:21   \n",
       "...                        ...                 ...   \n",
       "2021-01-15 2018-10-29 23:57:06 2018-10-11 16:42:59   \n",
       "2021-01-15 2018-10-29 23:57:06 2018-10-25 19:51:05   \n",
       "2021-01-15 2018-10-29 23:57:06 2018-10-29 18:07:55   \n",
       "2021-01-15 2018-10-29 23:57:06 2018-10-24 19:41:42   \n",
       "2021-01-15 2018-10-29 23:57:06 2018-10-29 19:00:35   \n",
       "\n",
       "                                                         JSON  \n",
       "Expiry                                                         \n",
       "2018-11-02  {'contractSymbol': 'AAPL181102C00265000', 'str...  \n",
       "2018-11-02  {'contractSymbol': 'AAPL181102C00192500', 'str...  \n",
       "2018-11-02  {'contractSymbol': 'AAPL181102C00267500', 'str...  \n",
       "2018-11-02  {'contractSymbol': 'AAPL181102C00187500', 'str...  \n",
       "2018-11-02  {'contractSymbol': 'AAPL181102C00237500', 'str...  \n",
       "...                                                       ...  \n",
       "2021-01-15  {'contractSymbol': 'AAPL210115C00155000', 'str...  \n",
       "2021-01-15  {'contractSymbol': 'AAPL210115P00155000', 'str...  \n",
       "2021-01-15  {'contractSymbol': 'AAPL210115P00270000', 'str...  \n",
       "2021-01-15  {'contractSymbol': 'AAPL210115C00175000', 'str...  \n",
       "2021-01-15  {'contractSymbol': 'AAPL210115C00250000', 'str...  \n",
       "\n",
       "[1024 rows x 18 columns]"
      ]
     },
     "execution_count": 14,
     "metadata": {},
     "output_type": "execute_result"
    }
   ],
   "source": [
    "aapl = web.YahooOptions('AAPL')\n",
    "aapl_opt = aapl.get_all_data().reset_index()\n",
    "aapl_opt.set_index('Expiry').sort_index()"
   ]
  },
  {
   "cell_type": "code",
   "execution_count": 15,
   "metadata": {},
   "outputs": [
    {
     "data": {
      "text/html": [
       "<div>\n",
       "<style scoped>\n",
       "    .dataframe tbody tr th:only-of-type {\n",
       "        vertical-align: middle;\n",
       "    }\n",
       "\n",
       "    .dataframe tbody tr th {\n",
       "        vertical-align: top;\n",
       "    }\n",
       "\n",
       "    .dataframe thead th {\n",
       "        text-align: right;\n",
       "    }\n",
       "</style>\n",
       "<table border=\"1\" class=\"dataframe\">\n",
       "  <thead>\n",
       "    <tr style=\"text-align: right;\">\n",
       "      <th></th>\n",
       "      <th>Strike</th>\n",
       "      <th>Expiry</th>\n",
       "      <th>Type</th>\n",
       "      <th>...</th>\n",
       "      <th>Quote_Time</th>\n",
       "      <th>Last_Trade_Date</th>\n",
       "      <th>JSON</th>\n",
       "    </tr>\n",
       "  </thead>\n",
       "  <tbody>\n",
       "    <tr>\n",
       "      <th>487</th>\n",
       "      <td>200.0</td>\n",
       "      <td>2019-02-15</td>\n",
       "      <td>call</td>\n",
       "      <td>...</td>\n",
       "      <td>2018-10-29 23:57:06</td>\n",
       "      <td>2018-10-29 19:55:22</td>\n",
       "      <td>{'contractSymbol': 'AAPL190215C00200000', 'str...</td>\n",
       "    </tr>\n",
       "  </tbody>\n",
       "</table>\n",
       "<p>1 rows × 19 columns</p>\n",
       "</div>"
      ],
      "text/plain": [
       "     Strike     Expiry  Type  \\\n",
       "487   200.0 2019-02-15  call   \n",
       "\n",
       "                           ...                                  Quote_Time  \\\n",
       "487                        ...                         2018-10-29 23:57:06   \n",
       "\n",
       "        Last_Trade_Date                                               JSON  \n",
       "487 2018-10-29 19:55:22  {'contractSymbol': 'AAPL190215C00200000', 'str...  \n",
       "\n",
       "[1 rows x 19 columns]"
      ]
     },
     "execution_count": 15,
     "metadata": {},
     "output_type": "execute_result"
    }
   ],
   "source": [
    "aapl_opt.loc[(aapl_opt.Type=='call') & (aapl_opt.Strike==200) & (aapl_opt.Expiry=='2019-02-15')]"
   ]
  },
  {
   "cell_type": "code",
   "execution_count": 49,
   "metadata": {
    "scrolled": true
   },
   "outputs": [
    {
     "data": {
      "text/plain": [
       "{'contractSymbol': 'AAPL190215C00200000',\n",
       " 'strike': 200.0,\n",
       " 'currency': 'USD',\n",
       " 'lastPrice': 21.85,\n",
       " 'change': -2.1999989,\n",
       " 'percentChange': -9.147605,\n",
       " 'volume': 331,\n",
       " 'openInterest': 2195,\n",
       " 'bid': 21.95,\n",
       " 'ask': 23.45,\n",
       " 'contractSize': 'REGULAR',\n",
       " 'expiration': 1550188800,\n",
       " 'lastTradeDate': 1540842922,\n",
       " 'impliedVolatility': 0.37045917633056635,\n",
       " 'inTheMoney': True}"
      ]
     },
     "execution_count": 49,
     "metadata": {},
     "output_type": "execute_result"
    }
   ],
   "source": [
    "opcion_valuar = aapl_opt.loc[487]\n",
    "opcion_valuar['JSON']"
   ]
  },
  {
   "cell_type": "markdown",
   "metadata": {},
   "source": [
    "# Simulación de precios usando rendimiento simple y logarítmico "
   ]
  },
  {
   "cell_type": "markdown",
   "metadata": {},
   "source": [
    "* Comenzaremos por suponer que los rendimientos son un p.e. estacionario que distribuyen $\\mathcal{N}(\\mu,\\sigma)$."
   ]
  },
  {
   "cell_type": "code",
   "execution_count": 17,
   "metadata": {},
   "outputs": [
    {
     "data": {
      "text/html": [
       "<div>\n",
       "<style scoped>\n",
       "    .dataframe tbody tr th:only-of-type {\n",
       "        vertical-align: middle;\n",
       "    }\n",
       "\n",
       "    .dataframe tbody tr th {\n",
       "        vertical-align: top;\n",
       "    }\n",
       "\n",
       "    .dataframe thead th {\n",
       "        text-align: right;\n",
       "    }\n",
       "</style>\n",
       "<table border=\"1\" class=\"dataframe\">\n",
       "  <thead>\n",
       "    <tr style=\"text-align: right;\">\n",
       "      <th></th>\n",
       "      <th>AAPL</th>\n",
       "    </tr>\n",
       "    <tr>\n",
       "      <th>Date</th>\n",
       "      <th></th>\n",
       "    </tr>\n",
       "  </thead>\n",
       "  <tbody>\n",
       "    <tr>\n",
       "      <th>2017-01-03</th>\n",
       "      <td>113.014</td>\n",
       "    </tr>\n",
       "    <tr>\n",
       "      <th>2017-01-04</th>\n",
       "      <td>112.887</td>\n",
       "    </tr>\n",
       "    <tr>\n",
       "      <th>2017-01-05</th>\n",
       "      <td>113.462</td>\n",
       "    </tr>\n",
       "    <tr>\n",
       "      <th>2017-01-06</th>\n",
       "      <td>114.726</td>\n",
       "    </tr>\n",
       "    <tr>\n",
       "      <th>2017-01-09</th>\n",
       "      <td>115.777</td>\n",
       "    </tr>\n",
       "    <tr>\n",
       "      <th>...</th>\n",
       "      <td>...</td>\n",
       "    </tr>\n",
       "    <tr>\n",
       "      <th>2018-10-23</th>\n",
       "      <td>222.730</td>\n",
       "    </tr>\n",
       "    <tr>\n",
       "      <th>2018-10-24</th>\n",
       "      <td>215.090</td>\n",
       "    </tr>\n",
       "    <tr>\n",
       "      <th>2018-10-25</th>\n",
       "      <td>219.800</td>\n",
       "    </tr>\n",
       "    <tr>\n",
       "      <th>2018-10-26</th>\n",
       "      <td>216.300</td>\n",
       "    </tr>\n",
       "    <tr>\n",
       "      <th>2018-10-29</th>\n",
       "      <td>212.240</td>\n",
       "    </tr>\n",
       "  </tbody>\n",
       "</table>\n",
       "<p>460 rows × 1 columns</p>\n",
       "</div>"
      ],
      "text/plain": [
       "               AAPL\n",
       "Date               \n",
       "2017-01-03  113.014\n",
       "2017-01-04  112.887\n",
       "2017-01-05  113.462\n",
       "2017-01-06  114.726\n",
       "2017-01-09  115.777\n",
       "...             ...\n",
       "2018-10-23  222.730\n",
       "2018-10-24  215.090\n",
       "2018-10-25  219.800\n",
       "2018-10-26  216.300\n",
       "2018-10-29  212.240\n",
       "\n",
       "[460 rows x 1 columns]"
      ]
     },
     "execution_count": 17,
     "metadata": {},
     "output_type": "execute_result"
    }
   ],
   "source": [
    "# Descargamos los precios de apple\n",
    "ticker = ['AAPL']\n",
    "start_date = '2017-01-01'\n",
    "\n",
    "closes_aapl = get_historical_closes(ticker, start_date,freq='d')\n",
    "closes_aapl"
   ]
  },
  {
   "cell_type": "markdown",
   "metadata": {},
   "source": [
    "- **Rendimiento Simple**"
   ]
  },
  {
   "cell_type": "code",
   "execution_count": 18,
   "metadata": {
    "scrolled": false
   },
   "outputs": [
    {
     "data": {
      "text/html": [
       "<div>\n",
       "<style scoped>\n",
       "    .dataframe tbody tr th:only-of-type {\n",
       "        vertical-align: middle;\n",
       "    }\n",
       "\n",
       "    .dataframe tbody tr th {\n",
       "        vertical-align: top;\n",
       "    }\n",
       "\n",
       "    .dataframe thead th {\n",
       "        text-align: right;\n",
       "    }\n",
       "</style>\n",
       "<table border=\"1\" class=\"dataframe\">\n",
       "  <thead>\n",
       "    <tr style=\"text-align: right;\">\n",
       "      <th></th>\n",
       "      <th>AAPL</th>\n",
       "    </tr>\n",
       "    <tr>\n",
       "      <th>Date</th>\n",
       "      <th></th>\n",
       "    </tr>\n",
       "  </thead>\n",
       "  <tbody>\n",
       "    <tr>\n",
       "      <th>2017-01-04</th>\n",
       "      <td>-0.001</td>\n",
       "    </tr>\n",
       "    <tr>\n",
       "      <th>2017-01-05</th>\n",
       "      <td>0.005</td>\n",
       "    </tr>\n",
       "    <tr>\n",
       "      <th>2017-01-06</th>\n",
       "      <td>0.011</td>\n",
       "    </tr>\n",
       "    <tr>\n",
       "      <th>2017-01-09</th>\n",
       "      <td>0.009</td>\n",
       "    </tr>\n",
       "    <tr>\n",
       "      <th>2017-01-10</th>\n",
       "      <td>0.001</td>\n",
       "    </tr>\n",
       "    <tr>\n",
       "      <th>...</th>\n",
       "      <td>...</td>\n",
       "    </tr>\n",
       "    <tr>\n",
       "      <th>2018-10-23</th>\n",
       "      <td>0.009</td>\n",
       "    </tr>\n",
       "    <tr>\n",
       "      <th>2018-10-24</th>\n",
       "      <td>-0.034</td>\n",
       "    </tr>\n",
       "    <tr>\n",
       "      <th>2018-10-25</th>\n",
       "      <td>0.022</td>\n",
       "    </tr>\n",
       "    <tr>\n",
       "      <th>2018-10-26</th>\n",
       "      <td>-0.016</td>\n",
       "    </tr>\n",
       "    <tr>\n",
       "      <th>2018-10-29</th>\n",
       "      <td>-0.019</td>\n",
       "    </tr>\n",
       "  </tbody>\n",
       "</table>\n",
       "<p>459 rows × 1 columns</p>\n",
       "</div>"
      ],
      "text/plain": [
       "             AAPL\n",
       "Date             \n",
       "2017-01-04 -0.001\n",
       "2017-01-05  0.005\n",
       "2017-01-06  0.011\n",
       "2017-01-09  0.009\n",
       "2017-01-10  0.001\n",
       "...           ...\n",
       "2018-10-23  0.009\n",
       "2018-10-24 -0.034\n",
       "2018-10-25  0.022\n",
       "2018-10-26 -0.016\n",
       "2018-10-29 -0.019\n",
       "\n",
       "[459 rows x 1 columns]"
      ]
     },
     "execution_count": 18,
     "metadata": {},
     "output_type": "execute_result"
    }
   ],
   "source": [
    "# Obtenemos el rendimiento simple\n",
    "Ri = closes_aapl.pct_change(1).iloc[1:]\n",
    "# Obtenemos su media y desviación estándar de los rendimientos\n",
    "mu_R = Ri.mean()[0]\n",
    "sigma_R = Ri.std()[0]\n",
    "Ri"
   ]
  },
  {
   "cell_type": "code",
   "execution_count": 55,
   "metadata": {},
   "outputs": [
    {
     "data": {
      "text/plain": [
       "DatetimeIndex(['2018-10-29', '2018-10-30', '2018-10-31', '2018-11-01',\n",
       "               '2018-11-02', '2018-11-03', '2018-11-04', '2018-11-05',\n",
       "               '2018-11-06', '2018-11-07',\n",
       "               ...\n",
       "               '2019-02-05', '2019-02-06', '2019-02-07', '2019-02-08',\n",
       "               '2019-02-09', '2019-02-10', '2019-02-11', '2019-02-12',\n",
       "               '2019-02-13', '2019-02-14'],\n",
       "              dtype='datetime64[ns]', length=109, freq='D')"
      ]
     },
     "execution_count": 55,
     "metadata": {},
     "output_type": "execute_result"
    }
   ],
   "source": [
    "ndays = 109\n",
    "nscen = 10\n",
    "dates = pd.date_range('2018-10-29', periods = ndays)\n",
    "dates"
   ]
  },
  {
   "cell_type": "code",
   "execution_count": 54,
   "metadata": {},
   "outputs": [
    {
     "data": {
      "text/html": [
       "<div>\n",
       "<style scoped>\n",
       "    .dataframe tbody tr th:only-of-type {\n",
       "        vertical-align: middle;\n",
       "    }\n",
       "\n",
       "    .dataframe tbody tr th {\n",
       "        vertical-align: top;\n",
       "    }\n",
       "\n",
       "    .dataframe thead th {\n",
       "        text-align: right;\n",
       "    }\n",
       "</style>\n",
       "<table border=\"1\" class=\"dataframe\">\n",
       "  <thead>\n",
       "    <tr style=\"text-align: right;\">\n",
       "      <th></th>\n",
       "      <th>0</th>\n",
       "      <th>1</th>\n",
       "      <th>2</th>\n",
       "      <th>...</th>\n",
       "      <th>7</th>\n",
       "      <th>8</th>\n",
       "      <th>9</th>\n",
       "    </tr>\n",
       "  </thead>\n",
       "  <tbody>\n",
       "    <tr>\n",
       "      <th>2018-10-29</th>\n",
       "      <td>-6.931e-03</td>\n",
       "      <td>-1.166e-02</td>\n",
       "      <td>2.547e-02</td>\n",
       "      <td>...</td>\n",
       "      <td>1.434e-02</td>\n",
       "      <td>-8.998e-04</td>\n",
       "      <td>-1.155e-02</td>\n",
       "    </tr>\n",
       "    <tr>\n",
       "      <th>2018-10-30</th>\n",
       "      <td>2.186e-04</td>\n",
       "      <td>3.222e-04</td>\n",
       "      <td>3.798e-04</td>\n",
       "      <td>...</td>\n",
       "      <td>1.454e-05</td>\n",
       "      <td>8.071e-06</td>\n",
       "      <td>8.280e-05</td>\n",
       "    </tr>\n",
       "    <tr>\n",
       "      <th>2018-10-31</th>\n",
       "      <td>4.116e-06</td>\n",
       "      <td>-7.234e-06</td>\n",
       "      <td>1.546e-06</td>\n",
       "      <td>...</td>\n",
       "      <td>1.406e-07</td>\n",
       "      <td>8.798e-08</td>\n",
       "      <td>-1.939e-07</td>\n",
       "    </tr>\n",
       "    <tr>\n",
       "      <th>2018-11-01</th>\n",
       "      <td>3.016e-08</td>\n",
       "      <td>-6.805e-09</td>\n",
       "      <td>-4.431e-09</td>\n",
       "      <td>...</td>\n",
       "      <td>-2.407e-09</td>\n",
       "      <td>1.433e-09</td>\n",
       "      <td>-7.536e-10</td>\n",
       "    </tr>\n",
       "    <tr>\n",
       "      <th>2018-11-02</th>\n",
       "      <td>-2.173e-10</td>\n",
       "      <td>-2.814e-11</td>\n",
       "      <td>-3.501e-11</td>\n",
       "      <td>...</td>\n",
       "      <td>4.554e-11</td>\n",
       "      <td>-9.820e-12</td>\n",
       "      <td>8.179e-12</td>\n",
       "    </tr>\n",
       "    <tr>\n",
       "      <th>...</th>\n",
       "      <td>...</td>\n",
       "      <td>...</td>\n",
       "      <td>...</td>\n",
       "      <td>...</td>\n",
       "      <td>...</td>\n",
       "      <td>...</td>\n",
       "      <td>...</td>\n",
       "    </tr>\n",
       "    <tr>\n",
       "      <th>2019-02-10</th>\n",
       "      <td>6.989e-226</td>\n",
       "      <td>-1.174e-225</td>\n",
       "      <td>5.639e-225</td>\n",
       "      <td>...</td>\n",
       "      <td>3.586e-224</td>\n",
       "      <td>7.933e-228</td>\n",
       "      <td>-1.376e-221</td>\n",
       "    </tr>\n",
       "    <tr>\n",
       "      <th>2019-02-11</th>\n",
       "      <td>2.840e-228</td>\n",
       "      <td>-3.255e-227</td>\n",
       "      <td>3.086e-228</td>\n",
       "      <td>...</td>\n",
       "      <td>-3.034e-226</td>\n",
       "      <td>9.977e-230</td>\n",
       "      <td>-2.108e-223</td>\n",
       "    </tr>\n",
       "    <tr>\n",
       "      <th>2019-02-12</th>\n",
       "      <td>-3.026e-230</td>\n",
       "      <td>1.072e-230</td>\n",
       "      <td>-7.680e-231</td>\n",
       "      <td>...</td>\n",
       "      <td>-3.657e-228</td>\n",
       "      <td>5.171e-232</td>\n",
       "      <td>3.012e-225</td>\n",
       "    </tr>\n",
       "    <tr>\n",
       "      <th>2019-02-13</th>\n",
       "      <td>1.011e-232</td>\n",
       "      <td>-1.345e-232</td>\n",
       "      <td>1.654e-232</td>\n",
       "      <td>...</td>\n",
       "      <td>2.319e-230</td>\n",
       "      <td>-5.757e-234</td>\n",
       "      <td>-5.419e-227</td>\n",
       "    </tr>\n",
       "    <tr>\n",
       "      <th>2019-02-14</th>\n",
       "      <td>-1.076e-234</td>\n",
       "      <td>2.269e-234</td>\n",
       "      <td>5.427e-235</td>\n",
       "      <td>...</td>\n",
       "      <td>-6.694e-232</td>\n",
       "      <td>-1.167e-236</td>\n",
       "      <td>-6.511e-229</td>\n",
       "    </tr>\n",
       "  </tbody>\n",
       "</table>\n",
       "<p>109 rows × 10 columns</p>\n",
       "</div>"
      ],
      "text/plain": [
       "                     0           1           2     ...               7  \\\n",
       "2018-10-29  -6.931e-03  -1.166e-02   2.547e-02     ...       1.434e-02   \n",
       "2018-10-30   2.186e-04   3.222e-04   3.798e-04     ...       1.454e-05   \n",
       "2018-10-31   4.116e-06  -7.234e-06   1.546e-06     ...       1.406e-07   \n",
       "2018-11-01   3.016e-08  -6.805e-09  -4.431e-09     ...      -2.407e-09   \n",
       "2018-11-02  -2.173e-10  -2.814e-11  -3.501e-11     ...       4.554e-11   \n",
       "...                ...         ...         ...     ...             ...   \n",
       "2019-02-10  6.989e-226 -1.174e-225  5.639e-225     ...      3.586e-224   \n",
       "2019-02-11  2.840e-228 -3.255e-227  3.086e-228     ...     -3.034e-226   \n",
       "2019-02-12 -3.026e-230  1.072e-230 -7.680e-231     ...     -3.657e-228   \n",
       "2019-02-13  1.011e-232 -1.345e-232  1.654e-232     ...      2.319e-230   \n",
       "2019-02-14 -1.076e-234  2.269e-234  5.427e-235     ...     -6.694e-232   \n",
       "\n",
       "                     8           9  \n",
       "2018-10-29  -8.998e-04  -1.155e-02  \n",
       "2018-10-30   8.071e-06   8.280e-05  \n",
       "2018-10-31   8.798e-08  -1.939e-07  \n",
       "2018-11-01   1.433e-09  -7.536e-10  \n",
       "2018-11-02  -9.820e-12   8.179e-12  \n",
       "...                ...         ...  \n",
       "2019-02-10  7.933e-228 -1.376e-221  \n",
       "2019-02-11  9.977e-230 -2.108e-223  \n",
       "2019-02-12  5.171e-232  3.012e-225  \n",
       "2019-02-13 -5.757e-234 -5.419e-227  \n",
       "2019-02-14 -1.167e-236 -6.511e-229  \n",
       "\n",
       "[109 rows x 10 columns]"
      ]
     },
     "execution_count": 54,
     "metadata": {},
     "output_type": "execute_result"
    }
   ],
   "source": [
    "dt = 1; # Rendimiento diario \n",
    "Z = np.random.randn(ndays,nscen)  # Z ~ N(0,1)\n",
    "# Simulación normal de los rendimientos\n",
    "Ri_dt = pd.DataFrame(mu_R*dt+Z*sigma_R*np.sqrt(dt),index=dates)\n",
    "Ri_dt.cumprod()"
   ]
  },
  {
   "cell_type": "code",
   "execution_count": 56,
   "metadata": {},
   "outputs": [
    {
     "data": {
      "image/png": "[encoded data removed]",
      "text/plain": [
       "<Figure size 576x432 with 1 Axes>"
      ]
     },
     "metadata": {},
     "output_type": "display_data"
    }
   ],
   "source": [
    "# Simulación del precio\n",
    "S_0 = closes_aapl.iloc[-1,0]\n",
    "S_T = S_0*(1+Ri_dt).cumprod()\n",
    "\n",
    "# Se muestran los precios simulados con los precios descargados\n",
    "pd.concat([closes_aapl,S_T]).plot(figsize=(8,6));\n",
    "plt.title('Simulación de precios usando rendimiento simple');"
   ]
  },
  {
   "cell_type": "markdown",
   "metadata": {},
   "source": [
    "- **Rendimiento logarítmico**"
   ]
  },
  {
   "cell_type": "code",
   "execution_count": 57,
   "metadata": {},
   "outputs": [
    {
     "data": {
      "text/html": [
       "<div>\n",
       "<style scoped>\n",
       "    .dataframe tbody tr th:only-of-type {\n",
       "        vertical-align: middle;\n",
       "    }\n",
       "\n",
       "    .dataframe tbody tr th {\n",
       "        vertical-align: top;\n",
       "    }\n",
       "\n",
       "    .dataframe thead th {\n",
       "        text-align: right;\n",
       "    }\n",
       "</style>\n",
       "<table border=\"1\" class=\"dataframe\">\n",
       "  <thead>\n",
       "    <tr style=\"text-align: right;\">\n",
       "      <th></th>\n",
       "      <th>0</th>\n",
       "      <th>1</th>\n",
       "      <th>2</th>\n",
       "      <th>...</th>\n",
       "      <th>7</th>\n",
       "      <th>8</th>\n",
       "      <th>9</th>\n",
       "    </tr>\n",
       "  </thead>\n",
       "  <tbody>\n",
       "    <tr>\n",
       "      <th>2018-10-29</th>\n",
       "      <td>0.008</td>\n",
       "      <td>-0.005</td>\n",
       "      <td>-0.034</td>\n",
       "      <td>...</td>\n",
       "      <td>0.006</td>\n",
       "      <td>0.017</td>\n",
       "      <td>-0.005</td>\n",
       "    </tr>\n",
       "    <tr>\n",
       "      <th>2018-10-30</th>\n",
       "      <td>-0.100</td>\n",
       "      <td>-0.085</td>\n",
       "      <td>-0.030</td>\n",
       "      <td>...</td>\n",
       "      <td>0.024</td>\n",
       "      <td>0.019</td>\n",
       "      <td>0.003</td>\n",
       "    </tr>\n",
       "    <tr>\n",
       "      <th>2018-10-31</th>\n",
       "      <td>-0.109</td>\n",
       "      <td>-0.132</td>\n",
       "      <td>-0.011</td>\n",
       "      <td>...</td>\n",
       "      <td>0.039</td>\n",
       "      <td>0.032</td>\n",
       "      <td>0.018</td>\n",
       "    </tr>\n",
       "    <tr>\n",
       "      <th>2018-11-01</th>\n",
       "      <td>-0.093</td>\n",
       "      <td>-0.116</td>\n",
       "      <td>0.005</td>\n",
       "      <td>...</td>\n",
       "      <td>0.012</td>\n",
       "      <td>0.033</td>\n",
       "      <td>0.036</td>\n",
       "    </tr>\n",
       "    <tr>\n",
       "      <th>2018-11-02</th>\n",
       "      <td>-0.085</td>\n",
       "      <td>-0.098</td>\n",
       "      <td>0.022</td>\n",
       "      <td>...</td>\n",
       "      <td>-0.021</td>\n",
       "      <td>0.041</td>\n",
       "      <td>0.033</td>\n",
       "    </tr>\n",
       "    <tr>\n",
       "      <th>...</th>\n",
       "      <td>...</td>\n",
       "      <td>...</td>\n",
       "      <td>...</td>\n",
       "      <td>...</td>\n",
       "      <td>...</td>\n",
       "      <td>...</td>\n",
       "      <td>...</td>\n",
       "    </tr>\n",
       "    <tr>\n",
       "      <th>2019-02-10</th>\n",
       "      <td>-0.156</td>\n",
       "      <td>-0.250</td>\n",
       "      <td>-0.207</td>\n",
       "      <td>...</td>\n",
       "      <td>-0.593</td>\n",
       "      <td>-0.015</td>\n",
       "      <td>-0.206</td>\n",
       "    </tr>\n",
       "    <tr>\n",
       "      <th>2019-02-11</th>\n",
       "      <td>-0.138</td>\n",
       "      <td>-0.305</td>\n",
       "      <td>-0.183</td>\n",
       "      <td>...</td>\n",
       "      <td>-0.583</td>\n",
       "      <td>-0.006</td>\n",
       "      <td>-0.206</td>\n",
       "    </tr>\n",
       "    <tr>\n",
       "      <th>2019-02-12</th>\n",
       "      <td>-0.138</td>\n",
       "      <td>-0.286</td>\n",
       "      <td>-0.162</td>\n",
       "      <td>...</td>\n",
       "      <td>-0.579</td>\n",
       "      <td>0.012</td>\n",
       "      <td>-0.218</td>\n",
       "    </tr>\n",
       "    <tr>\n",
       "      <th>2019-02-13</th>\n",
       "      <td>-0.123</td>\n",
       "      <td>-0.291</td>\n",
       "      <td>-0.221</td>\n",
       "      <td>...</td>\n",
       "      <td>-0.566</td>\n",
       "      <td>0.009</td>\n",
       "      <td>-0.244</td>\n",
       "    </tr>\n",
       "    <tr>\n",
       "      <th>2019-02-14</th>\n",
       "      <td>-0.124</td>\n",
       "      <td>-0.311</td>\n",
       "      <td>-0.197</td>\n",
       "      <td>...</td>\n",
       "      <td>-0.646</td>\n",
       "      <td>0.027</td>\n",
       "      <td>-0.236</td>\n",
       "    </tr>\n",
       "  </tbody>\n",
       "</table>\n",
       "<p>109 rows × 10 columns</p>\n",
       "</div>"
      ],
      "text/plain": [
       "                0      1      2  ...        7      8      9\n",
       "2018-10-29  0.008 -0.005 -0.034  ...    0.006  0.017 -0.005\n",
       "2018-10-30 -0.100 -0.085 -0.030  ...    0.024  0.019  0.003\n",
       "2018-10-31 -0.109 -0.132 -0.011  ...    0.039  0.032  0.018\n",
       "2018-11-01 -0.093 -0.116  0.005  ...    0.012  0.033  0.036\n",
       "2018-11-02 -0.085 -0.098  0.022  ...   -0.021  0.041  0.033\n",
       "...           ...    ...    ...  ...      ...    ...    ...\n",
       "2019-02-10 -0.156 -0.250 -0.207  ...   -0.593 -0.015 -0.206\n",
       "2019-02-11 -0.138 -0.305 -0.183  ...   -0.583 -0.006 -0.206\n",
       "2019-02-12 -0.138 -0.286 -0.162  ...   -0.579  0.012 -0.218\n",
       "2019-02-13 -0.123 -0.291 -0.221  ...   -0.566  0.009 -0.244\n",
       "2019-02-14 -0.124 -0.311 -0.197  ...   -0.646  0.027 -0.236\n",
       "\n",
       "[109 rows x 10 columns]"
      ]
     },
     "execution_count": 57,
     "metadata": {},
     "output_type": "execute_result"
    },
    {
     "data": {
      "image/png": "[encoded data removed]",
      "text/plain": [
       "<Figure size 576x432 with 1 Axes>"
      ]
     },
     "metadata": {},
     "output_type": "display_data"
    }
   ],
   "source": [
    "ri = calc_daily_ret(closes_aapl)\n",
    "# Usando la media y desviación estándar de los rendimientos logarítmicos\n",
    "mu_r = ri.mean()[0]\n",
    "sigma_r = ri.std()[0]\n",
    "\n",
    "# # Usando la equivalencia teórica\n",
    "# mu_r2 = mu_R - (sigma_R**2)/2\n",
    "\n",
    "sim_ret_ri = pd.DataFrame(mu_r*dt+Z*sigma_r*np.sqrt(dt), index=dates)\n",
    "# sim_ret_ri\n",
    "# Simulación del precio\n",
    "S_0 = closes_aapl.iloc[-1,0]\n",
    "S_T2 = S_0*np.exp(sim_ret_ri.cumsum())\n",
    "\n",
    "# Se muestran los precios simulados con los precios descargados\n",
    "pd.concat([closes_aapl,S_T2]).plot(figsize=(8,6));\n",
    "plt.title('Simulación de precios usando rendimiento logarítmico');\n",
    "S_T-S_T2"
   ]
  },
  {
   "cell_type": "code",
   "execution_count": 23,
   "metadata": {},
   "outputs": [
    {
     "name": "stdout",
     "output_type": "stream",
     "text": [
      "Las std usando rendimientos logarítmicos y simples son iguales\n"
     ]
    },
    {
     "data": {
      "text/plain": [
       "(0.013173558363602764, 0.013173558363602764)"
      ]
     },
     "execution_count": 23,
     "metadata": {},
     "output_type": "execute_result"
    }
   ],
   "source": [
    "print('Las std usando rendimientos logarítmicos y simples son iguales')\n",
    "sigma_R,sigma_r"
   ]
  },
  {
   "cell_type": "markdown",
   "metadata": {},
   "source": [
    "## 2. Valuación usando simulación: modelo normal para los rendimientos"
   ]
  },
  {
   "cell_type": "markdown",
   "metadata": {},
   "source": [
    "- Hallar media y desviación estándar muestral de los rendimientos logarítmicos"
   ]
  },
  {
   "cell_type": "code",
   "execution_count": 24,
   "metadata": {
    "scrolled": true
   },
   "outputs": [
    {
     "data": {
      "text/plain": [
       "(0.0013729995076266976, 0.013131395605953805)"
      ]
     },
     "execution_count": 24,
     "metadata": {},
     "output_type": "execute_result"
    }
   ],
   "source": [
    "mu = ret_aapl.mean()[0]\n",
    "sigma = ret_aapl.std()[0]\n",
    "mu, sigma"
   ]
  },
  {
   "cell_type": "markdown",
   "metadata": {},
   "source": [
    "No se toma la media sino la tasa libre de riesgo\n",
    "> Referencia: https://www.treasury.gov/resource-center/data-chart-center/interest-rates/Pages/TextView.aspx?data=yield"
   ]
  },
  {
   "cell_type": "code",
   "execution_count": 25,
   "metadata": {},
   "outputs": [],
   "source": [
    "# Tasa de bonos de 1 yr de fecha 10/01/18 -> 2.60%\n",
    "r = 0.0260/360 # Tasa diaria"
   ]
  },
  {
   "cell_type": "markdown",
   "metadata": {},
   "source": [
    "- Simularemos el tiempo de contrato (días=109) desde 29/10/18 hasta 15/02/19, 10 escenarios:\n",
    "> Calculador de fechas: https://es.calcuworld.com/calendarios/calculadora-de-tiempo-entre-dos-fechas/\n",
    "    \n",
    "    - Generar fechas"
   ]
  },
  {
   "cell_type": "code",
   "execution_count": 58,
   "metadata": {},
   "outputs": [
    {
     "data": {
      "text/plain": [
       "DatetimeIndex(['2018-10-29', '2018-10-30', '2018-10-31', '2018-11-01',\n",
       "               '2018-11-02', '2018-11-03', '2018-11-04', '2018-11-05',\n",
       "               '2018-11-06', '2018-11-07',\n",
       "               ...\n",
       "               '2019-02-05', '2019-02-06', '2019-02-07', '2019-02-08',\n",
       "               '2019-02-09', '2019-02-10', '2019-02-11', '2019-02-12',\n",
       "               '2019-02-13', '2019-02-14'],\n",
       "              dtype='datetime64[ns]', length=109, freq='D')"
      ]
     },
     "execution_count": 58,
     "metadata": {},
     "output_type": "execute_result"
    }
   ],
   "source": [
    "ndays = 109\n",
    "nscen = 10\n",
    "dates = pd.date_range('2018-10-29', periods = ndays)\n",
    "dates"
   ]
  },
  {
   "cell_type": "markdown",
   "metadata": {},
   "source": [
    "- Generamos 10 escenarios de rendimientos simulados y guardamos en un dataframe"
   ]
  },
  {
   "cell_type": "code",
   "execution_count": 59,
   "metadata": {
    "scrolled": false
   },
   "outputs": [
    {
     "data": {
      "text/html": [
       "<div>\n",
       "<style scoped>\n",
       "    .dataframe tbody tr th:only-of-type {\n",
       "        vertical-align: middle;\n",
       "    }\n",
       "\n",
       "    .dataframe tbody tr th {\n",
       "        vertical-align: top;\n",
       "    }\n",
       "\n",
       "    .dataframe thead th {\n",
       "        text-align: right;\n",
       "    }\n",
       "</style>\n",
       "<table border=\"1\" class=\"dataframe\">\n",
       "  <thead>\n",
       "    <tr style=\"text-align: right;\">\n",
       "      <th></th>\n",
       "      <th>0</th>\n",
       "      <th>1</th>\n",
       "      <th>2</th>\n",
       "      <th>...</th>\n",
       "      <th>7</th>\n",
       "      <th>8</th>\n",
       "      <th>9</th>\n",
       "    </tr>\n",
       "  </thead>\n",
       "  <tbody>\n",
       "    <tr>\n",
       "      <th>2018-10-29</th>\n",
       "      <td>-0.001</td>\n",
       "      <td>-2.713e-02</td>\n",
       "      <td>-2.530e-04</td>\n",
       "      <td>...</td>\n",
       "      <td>0.003</td>\n",
       "      <td>-0.011</td>\n",
       "      <td>0.010</td>\n",
       "    </tr>\n",
       "    <tr>\n",
       "      <th>2018-10-30</th>\n",
       "      <td>-0.022</td>\n",
       "      <td>-9.548e-03</td>\n",
       "      <td>5.289e-03</td>\n",
       "      <td>...</td>\n",
       "      <td>-0.008</td>\n",
       "      <td>-0.033</td>\n",
       "      <td>0.035</td>\n",
       "    </tr>\n",
       "    <tr>\n",
       "      <th>2018-10-31</th>\n",
       "      <td>-0.025</td>\n",
       "      <td>-1.510e-02</td>\n",
       "      <td>2.834e-02</td>\n",
       "      <td>...</td>\n",
       "      <td>-0.016</td>\n",
       "      <td>-0.047</td>\n",
       "      <td>0.044</td>\n",
       "    </tr>\n",
       "    <tr>\n",
       "      <th>2018-11-01</th>\n",
       "      <td>-0.001</td>\n",
       "      <td>-8.086e-04</td>\n",
       "      <td>1.529e-02</td>\n",
       "      <td>...</td>\n",
       "      <td>-0.034</td>\n",
       "      <td>-0.056</td>\n",
       "      <td>0.028</td>\n",
       "    </tr>\n",
       "    <tr>\n",
       "      <th>2018-11-02</th>\n",
       "      <td>0.001</td>\n",
       "      <td>-1.236e-02</td>\n",
       "      <td>1.983e-02</td>\n",
       "      <td>...</td>\n",
       "      <td>-0.045</td>\n",
       "      <td>-0.047</td>\n",
       "      <td>0.037</td>\n",
       "    </tr>\n",
       "    <tr>\n",
       "      <th>...</th>\n",
       "      <td>...</td>\n",
       "      <td>...</td>\n",
       "      <td>...</td>\n",
       "      <td>...</td>\n",
       "      <td>...</td>\n",
       "      <td>...</td>\n",
       "      <td>...</td>\n",
       "    </tr>\n",
       "    <tr>\n",
       "      <th>2019-02-10</th>\n",
       "      <td>0.134</td>\n",
       "      <td>-1.572e-01</td>\n",
       "      <td>-3.467e-02</td>\n",
       "      <td>...</td>\n",
       "      <td>-0.062</td>\n",
       "      <td>0.299</td>\n",
       "      <td>0.040</td>\n",
       "    </tr>\n",
       "    <tr>\n",
       "      <th>2019-02-11</th>\n",
       "      <td>0.136</td>\n",
       "      <td>-1.572e-01</td>\n",
       "      <td>-4.973e-02</td>\n",
       "      <td>...</td>\n",
       "      <td>-0.067</td>\n",
       "      <td>0.280</td>\n",
       "      <td>0.039</td>\n",
       "    </tr>\n",
       "    <tr>\n",
       "      <th>2019-02-12</th>\n",
       "      <td>0.165</td>\n",
       "      <td>-1.402e-01</td>\n",
       "      <td>-4.461e-02</td>\n",
       "      <td>...</td>\n",
       "      <td>-0.059</td>\n",
       "      <td>0.299</td>\n",
       "      <td>0.058</td>\n",
       "    </tr>\n",
       "    <tr>\n",
       "      <th>2019-02-13</th>\n",
       "      <td>0.157</td>\n",
       "      <td>-1.507e-01</td>\n",
       "      <td>-4.414e-02</td>\n",
       "      <td>...</td>\n",
       "      <td>-0.062</td>\n",
       "      <td>0.304</td>\n",
       "      <td>0.061</td>\n",
       "    </tr>\n",
       "    <tr>\n",
       "      <th>2019-02-14</th>\n",
       "      <td>0.146</td>\n",
       "      <td>-1.623e-01</td>\n",
       "      <td>-6.557e-02</td>\n",
       "      <td>...</td>\n",
       "      <td>-0.053</td>\n",
       "      <td>0.299</td>\n",
       "      <td>0.078</td>\n",
       "    </tr>\n",
       "  </tbody>\n",
       "</table>\n",
       "<p>109 rows × 10 columns</p>\n",
       "</div>"
      ],
      "text/plain": [
       "                0          1          2  ...        7      8      9\n",
       "2018-10-29 -0.001 -2.713e-02 -2.530e-04  ...    0.003 -0.011  0.010\n",
       "2018-10-30 -0.022 -9.548e-03  5.289e-03  ...   -0.008 -0.033  0.035\n",
       "2018-10-31 -0.025 -1.510e-02  2.834e-02  ...   -0.016 -0.047  0.044\n",
       "2018-11-01 -0.001 -8.086e-04  1.529e-02  ...   -0.034 -0.056  0.028\n",
       "2018-11-02  0.001 -1.236e-02  1.983e-02  ...   -0.045 -0.047  0.037\n",
       "...           ...        ...        ...  ...      ...    ...    ...\n",
       "2019-02-10  0.134 -1.572e-01 -3.467e-02  ...   -0.062  0.299  0.040\n",
       "2019-02-11  0.136 -1.572e-01 -4.973e-02  ...   -0.067  0.280  0.039\n",
       "2019-02-12  0.165 -1.402e-01 -4.461e-02  ...   -0.059  0.299  0.058\n",
       "2019-02-13  0.157 -1.507e-01 -4.414e-02  ...   -0.062  0.304  0.061\n",
       "2019-02-14  0.146 -1.623e-01 -6.557e-02  ...   -0.053  0.299  0.078\n",
       "\n",
       "[109 rows x 10 columns]"
      ]
     },
     "execution_count": 59,
     "metadata": {},
     "output_type": "execute_result"
    }
   ],
   "source": [
    "sim_ret = pd.DataFrame(sigma*np.random.randn(ndays,nscen)+r, index=dates)\n",
    "sim_ret.cumsum()\n",
    "# Las columnas son los escenarios y las filas son las días de contrato"
   ]
  },
  {
   "cell_type": "markdown",
   "metadata": {},
   "source": [
    "- Con los rendimientos simulados, calcular los escenarios de precios respectivos:"
   ]
  },
  {
   "cell_type": "code",
   "execution_count": 61,
   "metadata": {},
   "outputs": [
    {
     "data": {
      "text/html": [
       "<div>\n",
       "<style scoped>\n",
       "    .dataframe tbody tr th:only-of-type {\n",
       "        vertical-align: middle;\n",
       "    }\n",
       "\n",
       "    .dataframe tbody tr th {\n",
       "        vertical-align: top;\n",
       "    }\n",
       "\n",
       "    .dataframe thead th {\n",
       "        text-align: right;\n",
       "    }\n",
       "</style>\n",
       "<table border=\"1\" class=\"dataframe\">\n",
       "  <thead>\n",
       "    <tr style=\"text-align: right;\">\n",
       "      <th></th>\n",
       "      <th>0</th>\n",
       "      <th>1</th>\n",
       "      <th>2</th>\n",
       "      <th>...</th>\n",
       "      <th>7</th>\n",
       "      <th>8</th>\n",
       "      <th>9</th>\n",
       "    </tr>\n",
       "  </thead>\n",
       "  <tbody>\n",
       "    <tr>\n",
       "      <th>2018-10-29</th>\n",
       "      <td>211.972</td>\n",
       "      <td>206.560</td>\n",
       "      <td>212.186</td>\n",
       "      <td>...</td>\n",
       "      <td>212.891</td>\n",
       "      <td>209.846</td>\n",
       "      <td>214.275</td>\n",
       "    </tr>\n",
       "    <tr>\n",
       "      <th>2018-10-30</th>\n",
       "      <td>207.579</td>\n",
       "      <td>210.223</td>\n",
       "      <td>213.366</td>\n",
       "      <td>...</td>\n",
       "      <td>210.563</td>\n",
       "      <td>205.283</td>\n",
       "      <td>219.877</td>\n",
       "    </tr>\n",
       "    <tr>\n",
       "      <th>2018-10-31</th>\n",
       "      <td>207.027</td>\n",
       "      <td>209.059</td>\n",
       "      <td>218.342</td>\n",
       "      <td>...</td>\n",
       "      <td>208.808</td>\n",
       "      <td>202.403</td>\n",
       "      <td>221.853</td>\n",
       "    </tr>\n",
       "    <tr>\n",
       "      <th>2018-11-01</th>\n",
       "      <td>211.962</td>\n",
       "      <td>212.068</td>\n",
       "      <td>215.510</td>\n",
       "      <td>...</td>\n",
       "      <td>205.200</td>\n",
       "      <td>200.728</td>\n",
       "      <td>218.222</td>\n",
       "    </tr>\n",
       "    <tr>\n",
       "      <th>2018-11-02</th>\n",
       "      <td>212.485</td>\n",
       "      <td>209.633</td>\n",
       "      <td>216.490</td>\n",
       "      <td>...</td>\n",
       "      <td>202.802</td>\n",
       "      <td>202.531</td>\n",
       "      <td>220.183</td>\n",
       "    </tr>\n",
       "    <tr>\n",
       "      <th>...</th>\n",
       "      <td>...</td>\n",
       "      <td>...</td>\n",
       "      <td>...</td>\n",
       "      <td>...</td>\n",
       "      <td>...</td>\n",
       "      <td>...</td>\n",
       "      <td>...</td>\n",
       "    </tr>\n",
       "    <tr>\n",
       "      <th>2019-02-10</th>\n",
       "      <td>242.597</td>\n",
       "      <td>181.360</td>\n",
       "      <td>205.008</td>\n",
       "      <td>...</td>\n",
       "      <td>199.546</td>\n",
       "      <td>286.240</td>\n",
       "      <td>220.839</td>\n",
       "    </tr>\n",
       "    <tr>\n",
       "      <th>2019-02-11</th>\n",
       "      <td>243.191</td>\n",
       "      <td>181.361</td>\n",
       "      <td>201.944</td>\n",
       "      <td>...</td>\n",
       "      <td>198.548</td>\n",
       "      <td>280.896</td>\n",
       "      <td>220.773</td>\n",
       "    </tr>\n",
       "    <tr>\n",
       "      <th>2019-02-12</th>\n",
       "      <td>250.201</td>\n",
       "      <td>184.474</td>\n",
       "      <td>202.981</td>\n",
       "      <td>...</td>\n",
       "      <td>200.096</td>\n",
       "      <td>286.121</td>\n",
       "      <td>224.900</td>\n",
       "    </tr>\n",
       "    <tr>\n",
       "      <th>2019-02-13</th>\n",
       "      <td>248.335</td>\n",
       "      <td>182.549</td>\n",
       "      <td>203.075</td>\n",
       "      <td>...</td>\n",
       "      <td>199.440</td>\n",
       "      <td>287.783</td>\n",
       "      <td>225.634</td>\n",
       "    </tr>\n",
       "    <tr>\n",
       "      <th>2019-02-14</th>\n",
       "      <td>245.717</td>\n",
       "      <td>180.451</td>\n",
       "      <td>198.769</td>\n",
       "      <td>...</td>\n",
       "      <td>201.357</td>\n",
       "      <td>286.102</td>\n",
       "      <td>229.410</td>\n",
       "    </tr>\n",
       "  </tbody>\n",
       "</table>\n",
       "<p>109 rows × 10 columns</p>\n",
       "</div>"
      ],
      "text/plain": [
       "                  0        1        2   ...           7        8        9\n",
       "2018-10-29  211.972  206.560  212.186   ...     212.891  209.846  214.275\n",
       "2018-10-30  207.579  210.223  213.366   ...     210.563  205.283  219.877\n",
       "2018-10-31  207.027  209.059  218.342   ...     208.808  202.403  221.853\n",
       "2018-11-01  211.962  212.068  215.510   ...     205.200  200.728  218.222\n",
       "2018-11-02  212.485  209.633  216.490   ...     202.802  202.531  220.183\n",
       "...             ...      ...      ...   ...         ...      ...      ...\n",
       "2019-02-10  242.597  181.360  205.008   ...     199.546  286.240  220.839\n",
       "2019-02-11  243.191  181.361  201.944   ...     198.548  280.896  220.773\n",
       "2019-02-12  250.201  184.474  202.981   ...     200.096  286.121  224.900\n",
       "2019-02-13  248.335  182.549  203.075   ...     199.440  287.783  225.634\n",
       "2019-02-14  245.717  180.451  198.769   ...     201.357  286.102  229.410\n",
       "\n",
       "[109 rows x 10 columns]"
      ]
     },
     "execution_count": 61,
     "metadata": {},
     "output_type": "execute_result"
    }
   ],
   "source": [
    "S0 = closes_aapl.iloc[-1,0]  # Condición inicial del precio a simular\n",
    "sim_closes = S0*np.exp(sim_ret.cumsum())\n",
    "sim_closes"
   ]
  },
  {
   "cell_type": "markdown",
   "metadata": {},
   "source": [
    "- Graficar:"
   ]
  },
  {
   "cell_type": "code",
   "execution_count": 29,
   "metadata": {},
   "outputs": [],
   "source": [
    "#sim_closes.plot(figsize=(8,6));"
   ]
  },
  {
   "cell_type": "code",
   "execution_count": 62,
   "metadata": {
    "scrolled": false
   },
   "outputs": [
    {
     "data": {
      "image/png": "[encoded data removed]",
      "text/plain": [
       "<Figure size 576x432 with 1 Axes>"
      ]
     },
     "metadata": {},
     "output_type": "display_data"
    }
   ],
   "source": [
    "# Se muestran los precios simulados con los precios descargados\n",
    "pd.concat([closes_aapl,sim_closes]).plot(figsize=(8,6));"
   ]
  },
  {
   "cell_type": "code",
   "execution_count": 63,
   "metadata": {},
   "outputs": [
    {
     "data": {
      "text/plain": [
       "{'contractSymbol': 'AAPL190215C00200000',\n",
       " 'strike': 200.0,\n",
       " 'currency': 'USD',\n",
       " 'lastPrice': 21.85,\n",
       " 'change': -2.1999989,\n",
       " 'percentChange': -9.147605,\n",
       " 'volume': 331,\n",
       " 'openInterest': 2195,\n",
       " 'bid': 21.95,\n",
       " 'ask': 23.45,\n",
       " 'contractSize': 'REGULAR',\n",
       " 'expiration': 1550188800,\n",
       " 'lastTradeDate': 1540842922,\n",
       " 'impliedVolatility': 0.37045917633056635,\n",
       " 'inTheMoney': True}"
      ]
     },
     "execution_count": 63,
     "metadata": {},
     "output_type": "execute_result"
    }
   ],
   "source": [
    "opcion_valuar['JSON']"
   ]
  },
  {
   "cell_type": "code",
   "execution_count": 66,
   "metadata": {},
   "outputs": [],
   "source": [
    "K=200  # strike price\n",
    "ndays = 109 \n",
    "nscen = 100000\n",
    "dates = pd.date_range('2018-10-29', periods = ndays)\n",
    "S0 = closes_aapl.iloc[-1,0]  # Condición inicial del precio a simular\n",
    "\n",
    "sim_ret = pd.DataFrame(sigma*np.random.randn(ndays,nscen)+r,index=dates)\n",
    "sim_closes = S0*np.exp(sim_ret.cumsum())\n",
    "#strike = pd.DataFrame({'Strike':K*np.ones(ndays)}, index=dates)\n",
    "#simul = pd.concat([closes_aapl.T,strike.T,sim_closes.T]).T\n",
    "#simul.plot(figsize=(8,6),legend=False);"
   ]
  },
  {
   "cell_type": "code",
   "execution_count": 67,
   "metadata": {},
   "outputs": [
    {
     "data": {
      "image/png": "[encoded data removed]",
      "text/plain": [
       "<Figure size 432x288 with 1 Axes>"
      ]
     },
     "metadata": {},
     "output_type": "display_data"
    }
   ],
   "source": [
    "strike = pd.DataFrame(K*np.ones([ndays,nscen]), index=dates)\n",
    "call = pd.DataFrame({'Prima':np.exp(-r*ndays) \\\n",
    "              *np.fmax(sim_closes-strike,np.zeros([ndays,nscen])).T.mean()}, index=dates)\n",
    "call.plot();"
   ]
  },
  {
   "cell_type": "markdown",
   "metadata": {},
   "source": [
    "La valuación de la opción es:"
   ]
  },
  {
   "cell_type": "code",
   "execution_count": 68,
   "metadata": {},
   "outputs": [
    {
     "data": {
      "text/plain": [
       "Prima    21.063\n",
       "Name: 2019-02-14 00:00:00, dtype: float64"
      ]
     },
     "execution_count": 68,
     "metadata": {},
     "output_type": "execute_result"
    }
   ],
   "source": [
    "call.iloc[-1]"
   ]
  },
  {
   "cell_type": "markdown",
   "metadata": {},
   "source": [
    "Intervalo de confianza del 99%"
   ]
  },
  {
   "cell_type": "code",
   "execution_count": 69,
   "metadata": {
    "scrolled": true
   },
   "outputs": [
    {
     "name": "stdout",
     "output_type": "stream",
     "text": [
      "(20.819952289855564, 21.306430346677388)\n",
      "(20.819952289855564, 21.306430346677388)\n"
     ]
    }
   ],
   "source": [
    "confianza = 0.99\n",
    "sigma_est = sim_closes.iloc[-1].sem()\n",
    "mean_est = call.iloc[-1].Prima\n",
    "i1 = st.t.interval(confianza,nscen-1, loc=mean_est, scale=sigma_est)\n",
    "i2 = st.norm.interval(confianza, loc=mean_est, scale=sigma_est)\n",
    "print(i1)\n",
    "print(i1)\n"
   ]
  },
  {
   "cell_type": "markdown",
   "metadata": {},
   "source": [
    "### Análisis de la distribución de los rendimientos"
   ]
  },
  {
   "cell_type": "code",
   "execution_count": 36,
   "metadata": {},
   "outputs": [
    {
     "data": {
      "image/png": "[encoded data removed]",
      "text/plain": [
       "<Figure size 432x288 with 1 Axes>"
      ]
     },
     "metadata": {},
     "output_type": "display_data"
    }
   ],
   "source": [
    "ren = calc_daily_ret(closes_aapl) # rendimientos \n",
    "y,x,des = plt.hist(ren['AAPL'],bins=50,density=True,label='Histograma rendimientos')\n",
    "\n",
    "mu_fit,sd_fit = st.norm.fit(ren) # Se ajustan los parámetros de una normal\n",
    "# Valores máximo y mínimo de los rendiemientos a generar\n",
    "ren_max = max(x);ren_min = min(x)\n",
    "# Vector de rendimientos generados\n",
    "ren_gen = np.arange(ren_min,ren_max,0.001)\n",
    "# Generación de la normal ajustado con los parámetros encontrados\n",
    "curve_fit = st.norm.pdf(ren_gen,loc=mu_fit,scale=sd_fit)\n",
    "plt.plot(ren_gen,curve_fit,label='Distribución ajustada')\n",
    "plt.legend()\n",
    "plt.show()\n"
   ]
  },
  {
   "cell_type": "code",
   "execution_count": 37,
   "metadata": {},
   "outputs": [
    {
     "data": {
      "image/png": "[encoded data removed]",
      "text/plain": [
       "<Figure size 432x288 with 1 Axes>"
      ]
     },
     "metadata": {},
     "output_type": "display_data"
    }
   ],
   "source": [
    "st.probplot(ren['AAPL'], dist='norm', plot=plt);"
   ]
  },
  {
   "cell_type": "markdown",
   "metadata": {},
   "source": [
    "## 3. Valuación usando simulación: uso del histograma de rendimientos\n",
    "\n",
    "Todo el análisis anterior se mantiene. Solo cambia la forma de generar los números aleatorios para la simulación montecarlo.\n",
    "\n",
    "Ahora, generemos un histograma de los rendimientos diarios para generar valores aleatorios de los rendimientos simulados."
   ]
  },
  {
   "cell_type": "markdown",
   "metadata": {},
   "source": [
    "- Primero, cantidad de días y número de escenarios de simulación"
   ]
  },
  {
   "cell_type": "code",
   "execution_count": 38,
   "metadata": {},
   "outputs": [],
   "source": [
    "ndays = 109 \n",
    "nscen = 10"
   ]
  },
  {
   "cell_type": "markdown",
   "metadata": {},
   "source": [
    "- Del histograma anterior, ya conocemos las probabilidades de ocurrencia, lo que se llamó como variable `y`"
   ]
  },
  {
   "cell_type": "code",
   "execution_count": 39,
   "metadata": {},
   "outputs": [],
   "source": [
    "prob = y/np.sum(y)\n",
    "values = x[1:]"
   ]
  },
  {
   "cell_type": "markdown",
   "metadata": {},
   "source": [
    "- Con esto, generamos los números aleatorios correspondientes a los rendimientos (tantos como días por número de escenarios)."
   ]
  },
  {
   "cell_type": "code",
   "execution_count": 40,
   "metadata": {},
   "outputs": [
    {
     "data": {
      "text/html": [
       "<div>\n",
       "<style scoped>\n",
       "    .dataframe tbody tr th:only-of-type {\n",
       "        vertical-align: middle;\n",
       "    }\n",
       "\n",
       "    .dataframe tbody tr th {\n",
       "        vertical-align: top;\n",
       "    }\n",
       "\n",
       "    .dataframe thead th {\n",
       "        text-align: right;\n",
       "    }\n",
       "</style>\n",
       "<table border=\"1\" class=\"dataframe\">\n",
       "  <thead>\n",
       "    <tr style=\"text-align: right;\">\n",
       "      <th></th>\n",
       "      <th>0</th>\n",
       "      <th>1</th>\n",
       "      <th>2</th>\n",
       "      <th>...</th>\n",
       "      <th>7</th>\n",
       "      <th>8</th>\n",
       "      <th>9</th>\n",
       "    </tr>\n",
       "  </thead>\n",
       "  <tbody>\n",
       "    <tr>\n",
       "      <th>2018-10-29</th>\n",
       "      <td>0.012</td>\n",
       "      <td>1.015e-02</td>\n",
       "      <td>-5.176e-04</td>\n",
       "      <td>...</td>\n",
       "      <td>0.004</td>\n",
       "      <td>3.747e-03</td>\n",
       "      <td>-2.650e-03</td>\n",
       "    </tr>\n",
       "    <tr>\n",
       "      <th>2018-10-30</th>\n",
       "      <td>-0.011</td>\n",
       "      <td>3.747e-03</td>\n",
       "      <td>8.013e-03</td>\n",
       "      <td>...</td>\n",
       "      <td>0.004</td>\n",
       "      <td>-5.176e-04</td>\n",
       "      <td>1.615e-03</td>\n",
       "    </tr>\n",
       "    <tr>\n",
       "      <th>2018-10-31</th>\n",
       "      <td>-0.030</td>\n",
       "      <td>1.868e-02</td>\n",
       "      <td>1.868e-02</td>\n",
       "      <td>...</td>\n",
       "      <td>0.008</td>\n",
       "      <td>4.000e-02</td>\n",
       "      <td>-2.650e-03</td>\n",
       "    </tr>\n",
       "    <tr>\n",
       "      <th>2018-11-01</th>\n",
       "      <td>0.004</td>\n",
       "      <td>1.015e-02</td>\n",
       "      <td>-2.398e-02</td>\n",
       "      <td>...</td>\n",
       "      <td>-0.018</td>\n",
       "      <td>1.615e-03</td>\n",
       "      <td>-5.176e-04</td>\n",
       "    </tr>\n",
       "    <tr>\n",
       "      <th>2018-11-02</th>\n",
       "      <td>-0.009</td>\n",
       "      <td>8.013e-03</td>\n",
       "      <td>-2.650e-03</td>\n",
       "      <td>...</td>\n",
       "      <td>0.004</td>\n",
       "      <td>-5.176e-04</td>\n",
       "      <td>1.615e-03</td>\n",
       "    </tr>\n",
       "    <tr>\n",
       "      <th>...</th>\n",
       "      <td>...</td>\n",
       "      <td>...</td>\n",
       "      <td>...</td>\n",
       "      <td>...</td>\n",
       "      <td>...</td>\n",
       "      <td>...</td>\n",
       "      <td>...</td>\n",
       "    </tr>\n",
       "    <tr>\n",
       "      <th>2019-02-10</th>\n",
       "      <td>0.008</td>\n",
       "      <td>-1.545e-02</td>\n",
       "      <td>-1.331e-02</td>\n",
       "      <td>...</td>\n",
       "      <td>-0.011</td>\n",
       "      <td>-4.783e-03</td>\n",
       "      <td>1.615e-03</td>\n",
       "    </tr>\n",
       "    <tr>\n",
       "      <th>2019-02-11</th>\n",
       "      <td>-0.005</td>\n",
       "      <td>1.015e-02</td>\n",
       "      <td>-1.118e-02</td>\n",
       "      <td>...</td>\n",
       "      <td>-0.003</td>\n",
       "      <td>5.880e-03</td>\n",
       "      <td>1.868e-02</td>\n",
       "    </tr>\n",
       "    <tr>\n",
       "      <th>2019-02-12</th>\n",
       "      <td>0.006</td>\n",
       "      <td>8.013e-03</td>\n",
       "      <td>2.081e-02</td>\n",
       "      <td>...</td>\n",
       "      <td>-0.024</td>\n",
       "      <td>-5.176e-04</td>\n",
       "      <td>-6.915e-03</td>\n",
       "    </tr>\n",
       "    <tr>\n",
       "      <th>2019-02-13</th>\n",
       "      <td>-0.011</td>\n",
       "      <td>-1.971e-02</td>\n",
       "      <td>-4.530e-02</td>\n",
       "      <td>...</td>\n",
       "      <td>0.008</td>\n",
       "      <td>-3.464e-02</td>\n",
       "      <td>1.015e-02</td>\n",
       "    </tr>\n",
       "    <tr>\n",
       "      <th>2019-02-14</th>\n",
       "      <td>-0.003</td>\n",
       "      <td>-5.176e-04</td>\n",
       "      <td>-1.331e-02</td>\n",
       "      <td>...</td>\n",
       "      <td>-0.007</td>\n",
       "      <td>-5.176e-04</td>\n",
       "      <td>1.441e-02</td>\n",
       "    </tr>\n",
       "  </tbody>\n",
       "</table>\n",
       "<p>109 rows × 10 columns</p>\n",
       "</div>"
      ],
      "text/plain": [
       "                0          1          2    ...          7          8  \\\n",
       "2018-10-29  0.012  1.015e-02 -5.176e-04    ...      0.004  3.747e-03   \n",
       "2018-10-30 -0.011  3.747e-03  8.013e-03    ...      0.004 -5.176e-04   \n",
       "2018-10-31 -0.030  1.868e-02  1.868e-02    ...      0.008  4.000e-02   \n",
       "2018-11-01  0.004  1.015e-02 -2.398e-02    ...     -0.018  1.615e-03   \n",
       "2018-11-02 -0.009  8.013e-03 -2.650e-03    ...      0.004 -5.176e-04   \n",
       "...           ...        ...        ...    ...        ...        ...   \n",
       "2019-02-10  0.008 -1.545e-02 -1.331e-02    ...     -0.011 -4.783e-03   \n",
       "2019-02-11 -0.005  1.015e-02 -1.118e-02    ...     -0.003  5.880e-03   \n",
       "2019-02-12  0.006  8.013e-03  2.081e-02    ...     -0.024 -5.176e-04   \n",
       "2019-02-13 -0.011 -1.971e-02 -4.530e-02    ...      0.008 -3.464e-02   \n",
       "2019-02-14 -0.003 -5.176e-04 -1.331e-02    ...     -0.007 -5.176e-04   \n",
       "\n",
       "                    9  \n",
       "2018-10-29 -2.650e-03  \n",
       "2018-10-30  1.615e-03  \n",
       "2018-10-31 -2.650e-03  \n",
       "2018-11-01 -5.176e-04  \n",
       "2018-11-02  1.615e-03  \n",
       "...               ...  \n",
       "2019-02-10  1.615e-03  \n",
       "2019-02-11  1.868e-02  \n",
       "2019-02-12 -6.915e-03  \n",
       "2019-02-13  1.015e-02  \n",
       "2019-02-14  1.441e-02  \n",
       "\n",
       "[109 rows x 10 columns]"
      ]
     },
     "execution_count": 40,
     "metadata": {},
     "output_type": "execute_result"
    }
   ],
   "source": [
    "ret = np.random.choice(values, ndays*nscen, p=prob)\n",
    "dates = pd.date_range('2018-10-29',periods=ndays)\n",
    "sim_ret_hist = pd.DataFrame(ret.reshape((ndays,nscen)),index=dates)\n",
    "sim_ret_hist"
   ]
  },
  {
   "cell_type": "code",
   "execution_count": null,
   "metadata": {},
   "outputs": [],
   "source": []
  },
  {
   "cell_type": "code",
   "execution_count": 41,
   "metadata": {
    "scrolled": false
   },
   "outputs": [
    {
     "data": {
      "text/html": [
       "<div>\n",
       "<style scoped>\n",
       "    .dataframe tbody tr th:only-of-type {\n",
       "        vertical-align: middle;\n",
       "    }\n",
       "\n",
       "    .dataframe tbody tr th {\n",
       "        vertical-align: top;\n",
       "    }\n",
       "\n",
       "    .dataframe thead th {\n",
       "        text-align: right;\n",
       "    }\n",
       "</style>\n",
       "<table border=\"1\" class=\"dataframe\">\n",
       "  <thead>\n",
       "    <tr style=\"text-align: right;\">\n",
       "      <th></th>\n",
       "      <th>0</th>\n",
       "      <th>1</th>\n",
       "      <th>2</th>\n",
       "      <th>...</th>\n",
       "      <th>7</th>\n",
       "      <th>8</th>\n",
       "      <th>9</th>\n",
       "    </tr>\n",
       "  </thead>\n",
       "  <tbody>\n",
       "    <tr>\n",
       "      <th>2018-10-29</th>\n",
       "      <td>214.862</td>\n",
       "      <td>214.404</td>\n",
       "      <td>212.130</td>\n",
       "      <td>...</td>\n",
       "      <td>213.037</td>\n",
       "      <td>213.037</td>\n",
       "      <td>211.678</td>\n",
       "    </tr>\n",
       "    <tr>\n",
       "      <th>2018-10-30</th>\n",
       "      <td>212.473</td>\n",
       "      <td>215.209</td>\n",
       "      <td>213.837</td>\n",
       "      <td>...</td>\n",
       "      <td>213.837</td>\n",
       "      <td>212.927</td>\n",
       "      <td>212.020</td>\n",
       "    </tr>\n",
       "    <tr>\n",
       "      <th>2018-10-31</th>\n",
       "      <td>206.117</td>\n",
       "      <td>219.266</td>\n",
       "      <td>217.868</td>\n",
       "      <td>...</td>\n",
       "      <td>215.557</td>\n",
       "      <td>221.616</td>\n",
       "      <td>211.459</td>\n",
       "    </tr>\n",
       "    <tr>\n",
       "      <th>2018-11-01</th>\n",
       "      <td>206.890</td>\n",
       "      <td>221.502</td>\n",
       "      <td>212.706</td>\n",
       "      <td>...</td>\n",
       "      <td>211.801</td>\n",
       "      <td>221.975</td>\n",
       "      <td>211.350</td>\n",
       "    </tr>\n",
       "    <tr>\n",
       "      <th>2018-11-02</th>\n",
       "      <td>205.027</td>\n",
       "      <td>223.284</td>\n",
       "      <td>212.143</td>\n",
       "      <td>...</td>\n",
       "      <td>212.596</td>\n",
       "      <td>221.860</td>\n",
       "      <td>211.691</td>\n",
       "    </tr>\n",
       "    <tr>\n",
       "      <th>...</th>\n",
       "      <td>...</td>\n",
       "      <td>...</td>\n",
       "      <td>...</td>\n",
       "      <td>...</td>\n",
       "      <td>...</td>\n",
       "      <td>...</td>\n",
       "      <td>...</td>\n",
       "    </tr>\n",
       "    <tr>\n",
       "      <th>2019-02-10</th>\n",
       "      <td>238.406</td>\n",
       "      <td>250.391</td>\n",
       "      <td>250.925</td>\n",
       "      <td>...</td>\n",
       "      <td>314.569</td>\n",
       "      <td>275.610</td>\n",
       "      <td>268.074</td>\n",
       "    </tr>\n",
       "    <tr>\n",
       "      <th>2019-02-11</th>\n",
       "      <td>237.268</td>\n",
       "      <td>252.944</td>\n",
       "      <td>248.136</td>\n",
       "      <td>...</td>\n",
       "      <td>313.737</td>\n",
       "      <td>277.236</td>\n",
       "      <td>273.128</td>\n",
       "    </tr>\n",
       "    <tr>\n",
       "      <th>2019-02-12</th>\n",
       "      <td>238.668</td>\n",
       "      <td>254.979</td>\n",
       "      <td>253.353</td>\n",
       "      <td>...</td>\n",
       "      <td>306.304</td>\n",
       "      <td>277.092</td>\n",
       "      <td>271.246</td>\n",
       "    </tr>\n",
       "    <tr>\n",
       "      <th>2019-02-13</th>\n",
       "      <td>236.014</td>\n",
       "      <td>250.002</td>\n",
       "      <td>242.132</td>\n",
       "      <td>...</td>\n",
       "      <td>308.768</td>\n",
       "      <td>267.658</td>\n",
       "      <td>274.011</td>\n",
       "    </tr>\n",
       "    <tr>\n",
       "      <th>2019-02-14</th>\n",
       "      <td>235.390</td>\n",
       "      <td>249.873</td>\n",
       "      <td>238.930</td>\n",
       "      <td>...</td>\n",
       "      <td>306.641</td>\n",
       "      <td>267.520</td>\n",
       "      <td>277.988</td>\n",
       "    </tr>\n",
       "  </tbody>\n",
       "</table>\n",
       "<p>109 rows × 10 columns</p>\n",
       "</div>"
      ],
      "text/plain": [
       "                  0        1        2   ...           7        8        9\n",
       "2018-10-29  214.862  214.404  212.130   ...     213.037  213.037  211.678\n",
       "2018-10-30  212.473  215.209  213.837   ...     213.837  212.927  212.020\n",
       "2018-10-31  206.117  219.266  217.868   ...     215.557  221.616  211.459\n",
       "2018-11-01  206.890  221.502  212.706   ...     211.801  221.975  211.350\n",
       "2018-11-02  205.027  223.284  212.143   ...     212.596  221.860  211.691\n",
       "...             ...      ...      ...   ...         ...      ...      ...\n",
       "2019-02-10  238.406  250.391  250.925   ...     314.569  275.610  268.074\n",
       "2019-02-11  237.268  252.944  248.136   ...     313.737  277.236  273.128\n",
       "2019-02-12  238.668  254.979  253.353   ...     306.304  277.092  271.246\n",
       "2019-02-13  236.014  250.002  242.132   ...     308.768  267.658  274.011\n",
       "2019-02-14  235.390  249.873  238.930   ...     306.641  267.520  277.988\n",
       "\n",
       "[109 rows x 10 columns]"
      ]
     },
     "execution_count": 41,
     "metadata": {},
     "output_type": "execute_result"
    }
   ],
   "source": [
    "sim_closes_hist = (closes_aapl.iloc[-1,0])*np.exp(sim_ret_hist.cumsum())\n",
    "sim_closes_hist"
   ]
  },
  {
   "cell_type": "code",
   "execution_count": 42,
   "metadata": {},
   "outputs": [
    {
     "data": {
      "image/png": "[encoded data removed]",
      "text/plain": [
       "<Figure size 576x432 with 1 Axes>"
      ]
     },
     "metadata": {},
     "output_type": "display_data"
    }
   ],
   "source": [
    "sim_closes_hist.plot(figsize=(8,6),legend=False);"
   ]
  },
  {
   "cell_type": "code",
   "execution_count": 43,
   "metadata": {},
   "outputs": [
    {
     "data": {
      "text/plain": [
       "Text(0.5,1,'Simulación usando el histograma de los rendimientos')"
      ]
     },
     "execution_count": 43,
     "metadata": {},
     "output_type": "execute_result"
    },
    {
     "data": {
      "image/png": "[encoded data removed]",
      "text/plain": [
       "<Figure size 576x432 with 1 Axes>"
      ]
     },
     "metadata": {},
     "output_type": "display_data"
    }
   ],
   "source": [
    "pd.concat([closes_aapl,sim_closes_hist]).plot(figsize=(8,6),legend=False);\n",
    "plt.title('Simulación usando el histograma de los rendimientos')"
   ]
  },
  {
   "cell_type": "code",
   "execution_count": 70,
   "metadata": {},
   "outputs": [],
   "source": [
    "K=200\n",
    "ndays = 109\n",
    "nscen = 10000\n",
    "freq, values = np.histogram(ret_aapl+r-mu, bins=2000)\n",
    "prob = freq/np.sum(freq)\n",
    "ret=np.random.choice(values[1:],ndays*nscen,p=prob)\n",
    "dates=pd.date_range('2018-10-29',periods=ndays)\n",
    "sim_ret_hist = pd.DataFrame(ret.reshape((ndays,nscen)),index=dates)\n",
    "sim_closes_hist = (closes_aapl.iloc[-1,0])*np.exp(sim_ret_hist.cumsum())"
   ]
  },
  {
   "cell_type": "code",
   "execution_count": 71,
   "metadata": {},
   "outputs": [
    {
     "data": {
      "image/png": "[encoded data removed]",
      "text/plain": [
       "<Figure size 432x288 with 1 Axes>"
      ]
     },
     "metadata": {},
     "output_type": "display_data"
    }
   ],
   "source": [
    "strike = pd.DataFrame(K*np.ones(ndays*nscen).reshape((ndays,nscen)), index=dates)\n",
    "call_hist = pd.DataFrame({'Prima':np.exp(-r*ndays)*np.fmax(sim_closes_hist-strike,np.zeros(ndays*nscen).reshape((ndays,nscen))).T.mean()}, index=dates)\n",
    "call_hist.plot();"
   ]
  },
  {
   "cell_type": "code",
   "execution_count": 72,
   "metadata": {
    "scrolled": true
   },
   "outputs": [
    {
     "data": {
      "text/plain": [
       "Prima    21.118\n",
       "Name: 2019-02-14 00:00:00, dtype: float64"
      ]
     },
     "execution_count": 72,
     "metadata": {},
     "output_type": "execute_result"
    }
   ],
   "source": [
    "call_hist.iloc[-1]"
   ]
  },
  {
   "cell_type": "code",
   "execution_count": 73,
   "metadata": {},
   "outputs": [
    {
     "data": {
      "text/plain": [
       "{'contractSymbol': 'AAPL190215C00200000',\n",
       " 'strike': 200.0,\n",
       " 'currency': 'USD',\n",
       " 'lastPrice': 21.85,\n",
       " 'change': -2.1999989,\n",
       " 'percentChange': -9.147605,\n",
       " 'volume': 331,\n",
       " 'openInterest': 2195,\n",
       " 'bid': 21.95,\n",
       " 'ask': 23.45,\n",
       " 'contractSize': 'REGULAR',\n",
       " 'expiration': 1550188800,\n",
       " 'lastTradeDate': 1540842922,\n",
       " 'impliedVolatility': 0.37045917633056635,\n",
       " 'inTheMoney': True}"
      ]
     },
     "execution_count": 73,
     "metadata": {},
     "output_type": "execute_result"
    }
   ],
   "source": [
    "opcion_valuar['JSON']"
   ]
  },
  {
   "cell_type": "markdown",
   "metadata": {},
   "source": [
    "Intervalo de confianza del 95%"
   ]
  },
  {
   "cell_type": "code",
   "execution_count": 74,
   "metadata": {
    "scrolled": true
   },
   "outputs": [
    {
     "name": "stdout",
     "output_type": "stream",
     "text": [
      "(20.538480482996167, 21.696585119470125)\n",
      "(20.538480482996167, 21.696585119470125)\n"
     ]
    }
   ],
   "source": [
    "confianza = 0.95\n",
    "sigma_est = sim_closes_hist.iloc[-1].sem()\n",
    "mean_est = call_hist.iloc[-1].Prima\n",
    "i1 = st.t.interval(confianza,nscen-1, loc=mean_est, scale=sigma_est)\n",
    "i2 = st.norm.interval(confianza, loc=mean_est, scale=sigma_est)\n",
    "print(i1)\n",
    "print(i1)\n"
   ]
  },
  {
   "cell_type": "markdown",
   "metadata": {},
   "source": [
    "# <font color = 'red'> Tarea: </font>\n",
    "\n",
    "Replicar el procedimiento anterior para valoración de opciones 'call', pero en este caso para opciones tipo 'put'."
   ]
  },
  {
   "cell_type": "markdown",
   "metadata": {},
   "source": [
    "<script>\n",
    "  $(document).ready(function(){\n",
    "    $('div.prompt').hide();\n",
    "    $('div.back-to-top').hide();\n",
    "    $('nav#menubar').hide();\n",
    "    $('.breadcrumb').hide();\n",
    "    $('.hidden-print').hide();\n",
    "  });\n",
    "</script>\n",
    "\n",
    "<footer id=\"attribution\" style=\"float:right; color:#808080; background:#fff;\">\n",
    "Created with Jupyter by Esteban Jiménez Rodríguez and modify by Oscar Jaramillo Z.\n",
    "</footer>"
   ]
  }
 ],
 "metadata": {
  "kernelspec": {
   "display_name": "Python 3",
   "language": "python",
   "name": "python3"
  },
  "language_info": {
   "codemirror_mode": {
    "name": "ipython",
    "version": 3
   },
   "file_extension": ".py",
   "mimetype": "text/x-python",
   "name": "python",
   "nbconvert_exporter": "python",
   "pygments_lexer": "ipython3",
   "version": "3.6.5"
  }
 },
 "nbformat": 4,
 "nbformat_minor": 2
}
